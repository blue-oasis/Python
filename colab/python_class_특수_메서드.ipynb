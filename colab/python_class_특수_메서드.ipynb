{
  "nbformat": 4,
  "nbformat_minor": 0,
  "metadata": {
    "colab": {
      "name": "python class 특수 메서드.ipynb",
      "provenance": [],
      "authorship_tag": "ABX9TyOa8yNc9QDC1Wc7w4a/BbGF",
      "include_colab_link": true
    },
    "kernelspec": {
      "name": "python3",
      "display_name": "Python 3"
    },
    "language_info": {
      "name": "python"
    }
  },
  "cells": [
    {
      "cell_type": "markdown",
      "metadata": {
        "id": "view-in-github",
        "colab_type": "text"
      },
      "source": [
        "<a href=\"https://colab.research.google.com/github/blue-oasis/Python/blob/main/colab/python_class_%ED%8A%B9%EC%88%98_%EB%A9%94%EC%84%9C%EB%93%9C.ipynb\" target=\"_parent\"><img src=\"https://colab.research.google.com/assets/colab-badge.svg\" alt=\"Open In Colab\"/></a>"
      ]
    },
    {
      "cell_type": "markdown",
      "source": [
        "class 특수 메서드<br>\n",
        "<hr>\n",
        "연산자나 함수를 class 내에 오버라이딩 하여 사용함.<br>\n",
        "객체간 연산이나 출력 등에 사용.<br>\n",
        "이름 앞뒤에 언더바 두개 (__init__) 써서 사용함."
      ],
      "metadata": {
        "id": "T98PWM2j5DK3"
      }
    },
    {
      "cell_type": "code",
      "source": [
        "class test : \n",
        "  def __init__(self, num) : \n",
        "    self.num = num\n",
        "\n",
        "  def __repr__(self) : \n",
        "    '''객체의 맴버 변수 출력, 미구현시 레퍼런스 변수의 주소값 출력'''\n",
        "    return f'{self.num}' \n",
        "\n",
        "  def __str__(self) :\n",
        "    '''print(객체)사용 시 출력'''\n",
        "    return f'테스트 객체의 num 값은 {self.num}'\n",
        "\n",
        "  def __add__(self, other) : \n",
        "    '''객체간 멤버변수 덧셈'''\n",
        "    return self.num + other.num\n",
        "\n",
        "  def __sub__(self, other) : \n",
        "    '''객체간 멤버변수 뻴셈'''\n",
        "    return self.num - other.num\n",
        "\n",
        "  def __mul__(self, other) : \n",
        "    '''객체간 멤버변수 곱셈'''\n",
        "    return self.num * other.num\n",
        "\n",
        "  def __pow__(self, other) : \n",
        "    '''객체간 멤버변수 제곱'''\n",
        "    return self.num ** other.num\n",
        "\n",
        "  def __truediv__(self, other) : \n",
        "    '''객체간 멤버변수 나눗셈'''\n",
        "    return self.num / other.num\n",
        "\n",
        "  def __floordiv__(self, other) : \n",
        "    '''객체간 멤버변수 나눗셈, 몫 정수'''\n",
        "    return self.num // other.num\n",
        "\n",
        "  def __mod__(self, other) : \n",
        "    '''객체간 멤버변수 나머지 연산'''\n",
        "    return self.num % other.num\n",
        "\n",
        "  def __lshift__(self, other) : \n",
        "    '''객체간 멤버변수 비트 왼쪽 쉬프트'''\n",
        "    return self.num << other.num\n",
        "\n",
        "  def __rshift__(self, other) : \n",
        "    '''객체간 멤버변수 비트 오른쪽 쉬프트'''\n",
        "    return self.num >> other.num\n",
        "\n",
        "  def __and__(self, other) : \n",
        "    '''객체간 멤버변수 비트 and 연산'''\n",
        "    return self.num & other.num\n",
        "\n",
        "  def __or__(self, other) : \n",
        "    '''객체간 멤버변수 비트 or 연산'''\n",
        "    return self.num | other.num\n",
        "\n",
        "  def __xor__(self, other) : \n",
        "    '''객체간 멤버변수 비트 xor 연산'''\n",
        "    return self.num ^ other.num\n",
        "\n",
        "  def __invert__(self) : \n",
        "    '''객체 멤버변수 비트 not 연산'''\n",
        "    return ~self.num\n",
        "\n",
        "  def __lt__(self, other) : \n",
        "    '''객체 멤버변수간 크기 비교 n1 < n2'''\n",
        "    return self.num < other.num\n",
        "\n",
        "  def __le__(self, other) : \n",
        "    '''객체 멤버변수간 <= 연산 n1 <= n2 (이하)'''\n",
        "    return self.num <= other.num\n",
        "\n",
        "  def __eq__(self, other) : \n",
        "    '''객체 멤버변수간 == 연산 (값 같은지 비교)'''\n",
        "    return self.num == other.num\n",
        "\n",
        "  def __ne__(self, other) : \n",
        "    '''객체 멤버변수간 != 연산 (값 같지 않은지 비교)'''\n",
        "    return self.num != other.num\n",
        "\n",
        "  def __gt__(self, other) : \n",
        "    '''객체 멤버변수간 크기 비교 n1 > n2'''\n",
        "    return self.num > other.num\n",
        "\n",
        "  def __ge__(self, other) : \n",
        "    '''객체 멤버변수간 크기 비교 n1 >= n2 (이상)'''\n",
        "    return self.num >= other.num\n",
        "\n",
        "t = test(30)\n",
        "t2 = test(20)\n",
        "t\n",
        "print(t)\n",
        "print(t + t2)\n",
        "print(t - t2)\n",
        "print(t * t2)\n",
        "print(t ** t2)\n",
        "print(t / t2)\n",
        "print(t // t2)\n",
        "print(t % t2)\n",
        "print(t << t2)\n",
        "print(t >> t2)\n",
        "print(t & t2)\n",
        "print(t | t2)\n",
        "print(t ^ t2)\n",
        "print(~t)\n",
        "print(t < t2)\n",
        "print(t <= t2)\n",
        "print(t == t2)\n",
        "print(t != t2)\n",
        "print(t > t2)\n",
        "print(t >= t2)"
      ],
      "metadata": {
        "colab": {
          "base_uri": "https://localhost:8080/"
        },
        "id": "mgE5MK-x5D66",
        "outputId": "aa63ca7f-0405-4d03-eba0-dab49701fb8b"
      },
      "execution_count": 29,
      "outputs": [
        {
          "output_type": "stream",
          "name": "stdout",
          "text": [
            "테스트 객체의 num 값은 30\n",
            "50\n",
            "10\n",
            "600\n",
            "348678440100000000000000000000\n",
            "1.5\n",
            "1\n",
            "10\n",
            "31457280\n",
            "0\n",
            "20\n",
            "30\n",
            "10\n",
            "-31\n",
            "False\n",
            "False\n",
            "False\n",
            "True\n",
            "True\n",
            "True\n"
          ]
        }
      ]
    }
  ]
}