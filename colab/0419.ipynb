{
  "nbformat": 4,
  "nbformat_minor": 0,
  "metadata": {
    "colab": {
      "name": "0419.ipynb",
      "provenance": [],
      "authorship_tag": "ABX9TyN7CXtWIYHMRxx+PsIMHk/S",
      "include_colab_link": true
    },
    "kernelspec": {
      "name": "python3",
      "display_name": "Python 3"
    },
    "language_info": {
      "name": "python"
    }
  },
  "cells": [
    {
      "cell_type": "markdown",
      "metadata": {
        "id": "view-in-github",
        "colab_type": "text"
      },
      "source": [
        "<a href=\"https://colab.research.google.com/github/blue-oasis/Python/blob/main/colab/0419.ipynb\" target=\"_parent\"><img src=\"https://colab.research.google.com/assets/colab-badge.svg\" alt=\"Open In Colab\"/></a>"
      ]
    },
    {
      "cell_type": "code",
      "execution_count": 13,
      "metadata": {
        "colab": {
          "base_uri": "https://localhost:8080/"
        },
        "id": "ouDkun6Xsaeh",
        "outputId": "5eb1cbb6-936e-4f70-bdb1-00d82295db89"
      },
      "outputs": [
        {
          "output_type": "stream",
          "name": "stdout",
          "text": [
            "10\n",
            "[2, 4, 6, 8]\n",
            "25\n",
            "inner x is inner\n",
            "outer x is inner\n",
            "4\n"
          ]
        }
      ],
      "source": [
        "#람다식 형식\n",
        "double = lambda x : x * 2\n",
        "\n",
        "print(double(5))\n",
        "my_list = [1, 2, 3, 4, 5, 6, 7, 8]\n",
        "new_list = list(filter(lambda x : (x%2 == 0) , my_list))\n",
        "\n",
        "print(new_list)\n",
        "\n",
        "#x = 'global'\n",
        "def foo():\n",
        " #전역변수 사용\n",
        " x = 20\n",
        " def bar():\n",
        "   global x\n",
        "   x = 25\n",
        " bar()\n",
        "\n",
        "foo()\n",
        "print(x)\n",
        "\n",
        "def outer():\n",
        "  x = 'local'\n",
        "  def inner():\n",
        "    nonlocal x #위쪽 지역변수 사용\n",
        "    x = 'inner'\n",
        "    print(\"inner x is\", x)\n",
        "  inner()\n",
        "  print(\"outer x is\", x)\n",
        "\n",
        "outer()\n",
        "\n",
        "import math\n",
        "a = math.ceil(3.22) #올림\n",
        "print(a)"
      ]
    },
    {
      "cell_type": "code",
      "source": [
        "#리스트 쌍 만들기 예시\n",
        "transposed = []\n",
        "matrix = [[1, 2, 3, 4], [4, 5, 6, 8]]\n",
        "\n",
        "for i in range(len(matrix[0])):\n",
        "  transposed_row = []\n",
        "\n",
        "  for row in matrix:\n",
        "    transposed_row.append(row[i])\n",
        "  transposed.append(transposed_row)\n",
        "\n",
        "print(transposed)"
      ],
      "metadata": {
        "colab": {
          "base_uri": "https://localhost:8080/"
        },
        "id": "Hhzfxs_ZShFE",
        "outputId": "09131ba7-5fff-467d-ffcd-8d411b2dd11d"
      },
      "execution_count": 15,
      "outputs": [
        {
          "output_type": "stream",
          "name": "stdout",
          "text": [
            "[[1, 4], [2, 5], [3, 6], [4, 8]]\n"
          ]
        }
      ]
    },
    {
      "cell_type": "markdown",
      "source": [
        "1~6학년, 5개반, 반의 학생 수는 1반 : 5, 2반 : 4, 3반 : 5, 4반 : 3, 5반 : 4명\n",
        "\n",
        "1. 국어 점수 입력받음, 저장. 단 점수 범위 0~100점 사이\n",
        "2. 실수로 어떤 학생들은 점수를 음수 또는 100이상으로 입력함. 각 학년에 모두 실수가 있음\n",
        "3. 실수 고치고싶음\n",
        "4. 다입력 ㄴㄴ 실수만 고치게끔\n",
        "5. 잘못 입력한 점수 찾고 고치기\n",
        "6. 함수 이용 작업 수행\n",
        " - 학생 국어 점수 입력 함수\n",
        " - 점수 검증\n",
        " - 점수 수정\n",
        "7. 각 학년, 평균 점수 가장 높은 반, 낮은반 산출\n",
        "8. 학년의 평균 점수보다 낮은 점수 학생 출력(방과후 보충) 누구인지 명단 출력\n",
        "\n"
      ],
      "metadata": {
        "id": "zTSawpV8YyXZ"
      }
    },
    {
      "cell_type": "code",
      "source": [
        "g = [1, 2] #학년\n",
        "ban = [1, 2] #반 굳이 ?\n",
        "n = [[1, 2, 3, 4, 5], [1, 2, 3, 4], [1, 2, 3, 4, 5], [1, 2, 3], [1, 2, 3, 4]] #반 별 번호\n",
        "\n",
        "def inscore(g): #학년별 점수 받기\n",
        " socre_in = []\n",
        " socre_out = [] \n",
        " for i in g:\n",
        "      for k in range(len(ban)):\n",
        "        print(i, \"학년\" , k + 1 , '반 점수를 입력해 주세요 :' ,  len(n[k])  , \"명\")\n",
        "        score_in = list(map(int,input().split()))\n",
        "        socre_out.append(score_in)\n",
        " return socre_out\n",
        "\n",
        "score = []\n",
        "score.append(inscore(g))\n",
        "\n",
        "print(score)\n",
        "\n",
        "'''school = []\n",
        "\n",
        "for i in g: #학년\n",
        "  g_row = []\n",
        "\n",
        "  for row in ban: #반\n",
        "      \n",
        "    for p in range(len(score)): #점수\n",
        "      p_row = []\n",
        "      p_row.append(score[p])\n",
        "      g_row.append([i, row, p_row[(g-1)][(row-1)][p]]) #0 0 1 = 1학년 1반 1번\n",
        "  \n",
        "  school.append(g_row)\n",
        "\n",
        "print(school)\n",
        "\n",
        "def find(L):\n",
        "  for i in L :\n",
        "    if L[i] <= 0 or L[i] > 100 :\n",
        "'''\n",
        "\n"
      ],
      "metadata": {
        "colab": {
          "base_uri": "https://localhost:8080/",
          "height": 413
        },
        "id": "0KK5Hlk7aNHj",
        "outputId": "a794a2bb-2c20-44b4-cfd2-f33a91ce428a"
      },
      "execution_count": 49,
      "outputs": [
        {
          "output_type": "stream",
          "name": "stdout",
          "text": [
            "1 학년 1 반 점수를 입력해 주세요 : 5 명\n",
            "1 2 3 4 5\n",
            "1 학년 2 반 점수를 입력해 주세요 : 4 명\n",
            "1 2 3 4\n",
            "2 학년 1 반 점수를 입력해 주세요 : 5 명\n",
            "1 2 3 4 5\n",
            "2 학년 2 반 점수를 입력해 주세요 : 4 명\n",
            "1 2 3 4\n",
            "[[[1, 2, 3, 4, 5], [1, 2, 3, 4], [1, 2, 3, 4, 5], [1, 2, 3, 4]]]\n"
          ]
        },
        {
          "output_type": "error",
          "ename": "TypeError",
          "evalue": "ignored",
          "traceback": [
            "\u001b[0;31m---------------------------------------------------------------------------\u001b[0m",
            "\u001b[0;31mTypeError\u001b[0m                                 Traceback (most recent call last)",
            "\u001b[0;32m<ipython-input-49-5b7d567f0a28>\u001b[0m in \u001b[0;36m<module>\u001b[0;34m()\u001b[0m\n\u001b[1;32m     28\u001b[0m       \u001b[0mp_row\u001b[0m \u001b[0;34m=\u001b[0m \u001b[0;34m[\u001b[0m\u001b[0;34m]\u001b[0m\u001b[0;34m\u001b[0m\u001b[0;34m\u001b[0m\u001b[0m\n\u001b[1;32m     29\u001b[0m       \u001b[0mp_row\u001b[0m\u001b[0;34m.\u001b[0m\u001b[0mappend\u001b[0m\u001b[0;34m(\u001b[0m\u001b[0mscore\u001b[0m\u001b[0;34m[\u001b[0m\u001b[0mp\u001b[0m\u001b[0;34m]\u001b[0m\u001b[0;34m)\u001b[0m\u001b[0;34m\u001b[0m\u001b[0;34m\u001b[0m\u001b[0m\n\u001b[0;32m---> 30\u001b[0;31m       \u001b[0mg_row\u001b[0m\u001b[0;34m.\u001b[0m\u001b[0mappend\u001b[0m\u001b[0;34m(\u001b[0m\u001b[0;34m[\u001b[0m\u001b[0mi\u001b[0m\u001b[0;34m,\u001b[0m \u001b[0mrow\u001b[0m\u001b[0;34m,\u001b[0m \u001b[0mp_row\u001b[0m\u001b[0;34m[\u001b[0m\u001b[0;34m(\u001b[0m\u001b[0mg\u001b[0m\u001b[0;34m-\u001b[0m\u001b[0;36m1\u001b[0m\u001b[0;34m)\u001b[0m\u001b[0;34m]\u001b[0m\u001b[0;34m[\u001b[0m\u001b[0;34m(\u001b[0m\u001b[0mrow\u001b[0m\u001b[0;34m-\u001b[0m\u001b[0;36m1\u001b[0m\u001b[0;34m)\u001b[0m\u001b[0;34m]\u001b[0m\u001b[0;34m[\u001b[0m\u001b[0mp\u001b[0m\u001b[0;34m]\u001b[0m\u001b[0;34m]\u001b[0m\u001b[0;34m)\u001b[0m \u001b[0;31m#0 0 1 = 1학년 1반 1번\u001b[0m\u001b[0;34m\u001b[0m\u001b[0;34m\u001b[0m\u001b[0m\n\u001b[0m\u001b[1;32m     31\u001b[0m \u001b[0;34m\u001b[0m\u001b[0m\n\u001b[1;32m     32\u001b[0m   \u001b[0mschool\u001b[0m\u001b[0;34m.\u001b[0m\u001b[0mappend\u001b[0m\u001b[0;34m(\u001b[0m\u001b[0mg_row\u001b[0m\u001b[0;34m)\u001b[0m\u001b[0;34m\u001b[0m\u001b[0;34m\u001b[0m\u001b[0m\n",
            "\u001b[0;31mTypeError\u001b[0m: unsupported operand type(s) for -: 'list' and 'int'"
          ]
        }
      ]
    },
    {
      "cell_type": "code",
      "source": [
        ""
      ],
      "metadata": {
        "id": "N-OWv87EyTSE"
      },
      "execution_count": null,
      "outputs": []
    },
    {
      "cell_type": "code",
      "source": [
        "g = [1, 2] #학년\n",
        "ban = [1, 2] #반 굳이 ?\n",
        "n = [[1, 2, 3, 4, 5], [1, 2, 3, 4], [1, 2, 3, 4, 5], [1, 2, 3], [1, 2, 3, 4]] #반 별 번호\n",
        "\n",
        "d_array = [[[0 for i in range(5)] for j in range(5)] for k in range(6)]\n",
        "\n",
        "\n",
        "\n",
        "def inscore(g): #학년별 점수 받기 3차원 배열\n",
        " socre_in = []\n",
        " socre_out = [] \n",
        " for i in g:\n",
        "      for k in range(len(ban)):\n",
        "        print(i, \"학년\" , k + 1 , '반 점수를 입력해 주세요 :' ,  len(n[k])  , \"명\")\n",
        "        score_in = list(map(int,input().split()))\n",
        "        socre_out.append(score_in)\n",
        " return socre_out\n",
        "\n",
        "score = []\n",
        "score.append(inscore(g))\n",
        "\n",
        "print(score)\n",
        "\n",
        "'''school = []\n",
        "\n",
        "for i in  g: #학년\n",
        "  g_row = []\n",
        "\n",
        "  for row in ban: #반\n",
        "\n",
        "    for o in n: #번호\n",
        "      \n",
        "      for p in range(len(score)): #점수\n",
        "     \n",
        "       g_row.append([i, row, o, p_row[p]])\n",
        "  \n",
        "  school.append(g_row)\n",
        "\n",
        "print(school)\n",
        "'''\n",
        "\n",
        "#score[학년][반][점수(번호)]\n",
        "\n",
        "def find(L): #3차원 배열 받아서 검사\n",
        "  fix = []\n",
        "  for i in range(L[len(g)]) : #학년 입력\n",
        "    for j in range(len(L[i])): #반 입력\n",
        "      for k in range(len(L[i][j][k])):\n",
        "        temp = 0\n",
        "        temp = L[i][j][k]\n",
        "        if temp <= 0 or temp > 100 :\n",
        "          print((i+1), \"학년\", (j+1), '반', (k + 1), \"번 점수가 잘못되었습니다 : \", temp, \"점\" )\n",
        "          fix.append ([i, j, k])\n",
        "  return fix\n",
        "\n",
        "fix_a = []\n",
        "fix_a.append(find(score))\n",
        "\n",
        "     \n",
        "\n",
        "\n"
      ],
      "metadata": {
        "colab": {
          "base_uri": "https://localhost:8080/",
          "height": 541
        },
        "outputId": "0f7d3df0-4124-4ce9-fd80-f905ded15466",
        "id": "OFLMOruKyT0v"
      },
      "execution_count": 52,
      "outputs": [
        {
          "output_type": "stream",
          "name": "stdout",
          "text": [
            "1 학년 1 반 점수를 입력해 주세요 : 5 명\n",
            "1 1 1 50 111\n",
            "1 학년 2 반 점수를 입력해 주세요 : 4 명\n",
            "-5 1 2 3\n",
            "2 학년 1 반 점수를 입력해 주세요 : 5 명\n",
            "2 3 4 5 6 \n",
            "2 학년 2 반 점수를 입력해 주세요 : 4 명\n",
            "5 5 5 5\n",
            "[[[1, 1, 1, 50, 111], [-5, 1, 2, 3], [2, 3, 4, 5, 6], [5, 5, 5, 5]]]\n"
          ]
        },
        {
          "output_type": "error",
          "ename": "IndexError",
          "evalue": "ignored",
          "traceback": [
            "\u001b[0;31m---------------------------------------------------------------------------\u001b[0m",
            "\u001b[0;31mIndexError\u001b[0m                                Traceback (most recent call last)",
            "\u001b[0;32m<ipython-input-52-4bfb801b2401>\u001b[0m in \u001b[0;36m<module>\u001b[0;34m()\u001b[0m\n\u001b[1;32m     55\u001b[0m \u001b[0;34m\u001b[0m\u001b[0m\n\u001b[1;32m     56\u001b[0m \u001b[0mfix_a\u001b[0m \u001b[0;34m=\u001b[0m \u001b[0;34m[\u001b[0m\u001b[0;34m]\u001b[0m\u001b[0;34m\u001b[0m\u001b[0;34m\u001b[0m\u001b[0m\n\u001b[0;32m---> 57\u001b[0;31m \u001b[0mfix_a\u001b[0m\u001b[0;34m.\u001b[0m\u001b[0mappend\u001b[0m\u001b[0;34m(\u001b[0m\u001b[0mfind\u001b[0m\u001b[0;34m(\u001b[0m\u001b[0mscore\u001b[0m\u001b[0;34m)\u001b[0m\u001b[0;34m)\u001b[0m\u001b[0;34m\u001b[0m\u001b[0;34m\u001b[0m\u001b[0m\n\u001b[0m\u001b[1;32m     58\u001b[0m \u001b[0;34m\u001b[0m\u001b[0m\n\u001b[1;32m     59\u001b[0m \u001b[0;34m\u001b[0m\u001b[0m\n",
            "\u001b[0;32m<ipython-input-52-4bfb801b2401>\u001b[0m in \u001b[0;36mfind\u001b[0;34m(L)\u001b[0m\n\u001b[1;32m     44\u001b[0m \u001b[0;32mdef\u001b[0m \u001b[0mfind\u001b[0m\u001b[0;34m(\u001b[0m\u001b[0mL\u001b[0m\u001b[0;34m)\u001b[0m\u001b[0;34m:\u001b[0m \u001b[0;31m#3차원 배열 받아서 검사\u001b[0m\u001b[0;34m\u001b[0m\u001b[0;34m\u001b[0m\u001b[0m\n\u001b[1;32m     45\u001b[0m   \u001b[0mfix\u001b[0m \u001b[0;34m=\u001b[0m \u001b[0;34m[\u001b[0m\u001b[0;34m]\u001b[0m\u001b[0;34m\u001b[0m\u001b[0;34m\u001b[0m\u001b[0m\n\u001b[0;32m---> 46\u001b[0;31m   \u001b[0;32mfor\u001b[0m \u001b[0mi\u001b[0m \u001b[0;32min\u001b[0m \u001b[0mrange\u001b[0m\u001b[0;34m(\u001b[0m\u001b[0mL\u001b[0m\u001b[0;34m[\u001b[0m\u001b[0mlen\u001b[0m\u001b[0;34m(\u001b[0m\u001b[0mg\u001b[0m\u001b[0;34m)\u001b[0m\u001b[0;34m]\u001b[0m\u001b[0;34m)\u001b[0m \u001b[0;34m:\u001b[0m \u001b[0;31m#학년 입력\u001b[0m\u001b[0;34m\u001b[0m\u001b[0;34m\u001b[0m\u001b[0m\n\u001b[0m\u001b[1;32m     47\u001b[0m     \u001b[0;32mfor\u001b[0m \u001b[0mj\u001b[0m \u001b[0;32min\u001b[0m \u001b[0mrange\u001b[0m\u001b[0;34m(\u001b[0m\u001b[0mlen\u001b[0m\u001b[0;34m(\u001b[0m\u001b[0mL\u001b[0m\u001b[0;34m[\u001b[0m\u001b[0mi\u001b[0m\u001b[0;34m]\u001b[0m\u001b[0;34m)\u001b[0m\u001b[0;34m)\u001b[0m\u001b[0;34m:\u001b[0m \u001b[0;31m#반 입력\u001b[0m\u001b[0;34m\u001b[0m\u001b[0;34m\u001b[0m\u001b[0m\n\u001b[1;32m     48\u001b[0m       \u001b[0;32mfor\u001b[0m \u001b[0mk\u001b[0m \u001b[0;32min\u001b[0m \u001b[0mrange\u001b[0m\u001b[0;34m(\u001b[0m\u001b[0mlen\u001b[0m\u001b[0;34m(\u001b[0m\u001b[0mL\u001b[0m\u001b[0;34m[\u001b[0m\u001b[0mi\u001b[0m\u001b[0;34m]\u001b[0m\u001b[0;34m[\u001b[0m\u001b[0mj\u001b[0m\u001b[0;34m]\u001b[0m\u001b[0;34m[\u001b[0m\u001b[0mk\u001b[0m\u001b[0;34m]\u001b[0m\u001b[0;34m)\u001b[0m\u001b[0;34m)\u001b[0m\u001b[0;34m:\u001b[0m\u001b[0;34m\u001b[0m\u001b[0;34m\u001b[0m\u001b[0m\n",
            "\u001b[0;31mIndexError\u001b[0m: list index out of range"
          ]
        }
      ]
    },
    {
      "cell_type": "code",
      "source": [
        "d_array = [[[0 for i in range(5)] for j in range(5)] for k in range(6)]\n",
        "\n",
        "iprint(d_array)"
      ],
      "metadata": {
        "colab": {
          "base_uri": "https://localhost:8080/"
        },
        "id": "TDgqju9S2n1M",
        "outputId": "3900bad7-1a1e-46e6-dd41-70ebcf251f2a"
      },
      "execution_count": 51,
      "outputs": [
        {
          "output_type": "stream",
          "name": "stdout",
          "text": [
            "[[[0, 0, 0, 0, 0], [0, 0, 0, 0, 0], [0, 0, 0, 0, 0], [0, 0, 0, 0, 0], [0, 0, 0, 0, 0]], [[0, 0, 0, 0, 0], [0, 0, 0, 0, 0], [0, 0, 0, 0, 0], [0, 0, 0, 0, 0], [0, 0, 0, 0, 0]], [[0, 0, 0, 0, 0], [0, 0, 0, 0, 0], [0, 0, 0, 0, 0], [0, 0, 0, 0, 0], [0, 0, 0, 0, 0]], [[0, 0, 0, 0, 0], [0, 0, 0, 0, 0], [0, 0, 0, 0, 0], [0, 0, 0, 0, 0], [0, 0, 0, 0, 0]], [[0, 0, 0, 0, 0], [0, 0, 0, 0, 0], [0, 0, 0, 0, 0], [0, 0, 0, 0, 0], [0, 0, 0, 0, 0]], [[0, 0, 0, 0, 0], [0, 0, 0, 0, 0], [0, 0, 0, 0, 0], [0, 0, 0, 0, 0], [0, 0, 0, 0, 0]]]\n"
          ]
        }
      ]
    },
    {
      "cell_type": "code",
      "source": [
        "import random\n",
        "\n",
        "g = [1, 2] #학년\n",
        "ban = [1, 2] #반 굳이 ?\n",
        "n = [[1, 2, 3, 4, 5], [1, 2, 3, 4], [1, 2, 3, 4, 5], [1, 2, 3], [1, 2, 3, 4]] #반 별 번호\n",
        "\n",
        "def inscore(num): #학년별 점수 받기 3중 for문 멈처~~\n",
        " socre_in = []\n",
        " socre_out = [] \n",
        " temp_L = []\n",
        " for i in range(1, num +1):\n",
        "      for k in range(len(ban)):\n",
        "        print(i, \"학년\" , k + 1 , '반 점수를 입력해 주세요 :' ,  len(n[k])  , \"명\")\n",
        "        score_in = list(map(int,input().split()))\n",
        "        socre_out.append(score_in)\n",
        "        temp_L = socre_out[0][k]\n",
        "      return temp_L\n",
        "\n",
        "score_1, score_2, score_3, score_4, score_5, score_6  = [], [], [], [], [], []\n",
        "\n",
        "\n",
        "score_1.append(inscore(1))\n",
        "print(score_1)\n",
        "'''score_2.append(inscore(2))\n",
        "score_3.append(inscore(3))\n",
        "score_4.append(inscore(4))\n",
        "score_5.append(inscore(5))\n",
        "score_6.append(inscore(6))\n",
        "\n",
        "print(score_1) #3중 for 멈처!!!\n",
        "\n",
        "def find(L):\n",
        "  for i in L :\n",
        "    for j in range(len(L[i][j])) :\n",
        "      if L[i] <= 0 or L[i] > 100 :\n",
        "'''"
      ],
      "metadata": {
        "colab": {
          "base_uri": "https://localhost:8080/",
          "height": 146
        },
        "id": "nfCGu7y66h-r",
        "outputId": "0085dea6-b3fd-4224-8720-2a5e01e4904c"
      },
      "execution_count": 63,
      "outputs": [
        {
          "output_type": "stream",
          "name": "stdout",
          "text": [
            "1 학년 1 반 점수를 입력해 주세요 : 5 명\n",
            "1 2 3 4 5\n",
            "1 학년 2 반 점수를 입력해 주세요 : 4 명\n",
            "1 2 3 4\n",
            "[2]\n"
          ]
        },
        {
          "output_type": "execute_result",
          "data": {
            "text/plain": [
              "'score_2.append(inscore(2))\\nscore_3.append(inscore(3))\\nscore_4.append(inscore(4))\\nscore_5.append(inscore(5))\\nscore_6.append(inscore(6))\\n\\nprint(score_1) #3중 for 멈처!!!\\n\\ndef find(L):\\n  for i in L :\\n    for j in range(len(L[i][j])) :\\n      if L[i] <= 0 or L[i] > 100 :\\n'"
            ],
            "application/vnd.google.colaboratory.intrinsic+json": {
              "type": "string"
            }
          },
          "metadata": {},
          "execution_count": 63
        }
      ]
    }
  ]
}