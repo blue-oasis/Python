{
  "nbformat": 4,
  "nbformat_minor": 0,
  "metadata": {
    "colab": {
      "name": "0414.ipynb",
      "provenance": [],
      "authorship_tag": "ABX9TyMTFWjwjpme+uga+yDDBcyH",
      "include_colab_link": true
    },
    "kernelspec": {
      "name": "python3",
      "display_name": "Python 3"
    },
    "language_info": {
      "name": "python"
    }
  },
  "cells": [
    {
      "cell_type": "markdown",
      "metadata": {
        "id": "view-in-github",
        "colab_type": "text"
      },
      "source": [
        "<a href=\"https://colab.research.google.com/github/blue-oasis/Python/blob/main/colab/0414.ipynb\" target=\"_parent\"><img src=\"https://colab.research.google.com/assets/colab-badge.svg\" alt=\"Open In Colab\"/></a>"
      ]
    },
    {
      "cell_type": "code",
      "execution_count": 5,
      "metadata": {
        "colab": {
          "base_uri": "https://localhost:8080/"
        },
        "id": "utJxJfw8E_GQ",
        "outputId": "b22be21f-011f-453d-9568-b074fc5dab00"
      },
      "outputs": [
        {
          "output_type": "stream",
          "name": "stdout",
          "text": [
            "20\n"
          ]
        }
      ],
      "source": [
        "def outer_function():\n",
        "  b = 20\n",
        "  \n",
        "  def inner_func():\n",
        "    c = 30\n",
        "    print(b)\n",
        "  inner_func()\n",
        "\n",
        "a = 10\n",
        "outer_function()\n"
      ]
    },
    {
      "cell_type": "code",
      "source": [
        "def outer_function():\n",
        "  a = 20\n",
        "\n",
        "  def inner_func():\n",
        "    a = 30\n",
        "    print('a = ', a)\n",
        "  \n",
        "  inner_func()\n",
        "  print(\"a = \", a)\n",
        "\n",
        "a = 10\n",
        "outer_function()\n",
        "print('a = ', a)"
      ],
      "metadata": {
        "colab": {
          "base_uri": "https://localhost:8080/"
        },
        "id": "rNASG2QRJIba",
        "outputId": "e1c99ce8-ac4e-41f0-8748-078220d7afd4"
      },
      "execution_count": 6,
      "outputs": [
        {
          "output_type": "stream",
          "name": "stdout",
          "text": [
            "a =  30\n",
            "a =  20\n",
            "a =  10\n"
          ]
        }
      ]
    },
    {
      "cell_type": "code",
      "source": [
        "def outer_function():\n",
        "  global a  #전역 변수 키워드  global\n",
        "  a = 20\n",
        "  b = 10\n",
        "  \n",
        "  def inner_func():\n",
        "    global a \n",
        "    a = 30\n",
        "    \n",
        "    nonlocal b #상위 지역변수 활용 nonlocal\n",
        "    b = 20\n",
        "    print(\"a = \", a, \"b = \", b)\n",
        "\n",
        "  inner_func()\n",
        "  print(\"a = \", a)\n",
        "\n",
        "a = 10 # 주석 처리해도 실행가능, 함수 블록 내에서 선언 및 생성\n",
        "outer_function()\n",
        "print('a = ', a)"
      ],
      "metadata": {
        "colab": {
          "base_uri": "https://localhost:8080/"
        },
        "id": "rwPpbLAwKBsH",
        "outputId": "3e10c9e6-0167-4636-8edd-dcb72e207ed1"
      },
      "execution_count": 2,
      "outputs": [
        {
          "output_type": "stream",
          "name": "stdout",
          "text": [
            "a =  30 b =  20\n",
            "a =  30\n",
            "a =  30\n"
          ]
        }
      ]
    },
    {
      "cell_type": "code",
      "source": [
        "A = [1, 2, 3, 4, 5, 6, 7, 8, 9, 10]\n",
        "\n",
        "\n",
        "def num (a):\n",
        "  if a % 2 == 0 and a % 3 == 0:\n",
        "    print(a , \"은 2와 3의 공배수\")\n",
        "  elif a % 2 == 0:\n",
        "    print(a, \"은 2의 배수\")\n",
        "  elif a % 3 == 0:\n",
        "    print(a , \"은 3의 배수\")\n",
        "  else :\n",
        "    print(a, \"은 2나 3의 배수가 아닙니다.\")\n",
        "\n",
        "num(A[5]) \n",
        "\n",
        "for i in A:\n",
        "  num(i)\n",
        "  \n",
        "\n",
        "for i in A:\n",
        "  if i % 2 == 0 and i % 3 == 0:\n",
        "    print(i , \"은 2와 3의 공배수\")\n",
        "  elif i % 2 == 0:\n",
        "    print(i, \"은 2의 배수\")\n",
        "  elif i % 3 == 0:\n",
        "    print(i , \"은 3의 배수\")\n",
        "  else :\n",
        "    print(i, \"은 2나 3의 배수가 아닙니다.\")\n",
        "\n",
        "d = 0\n",
        "d = int(input(\"반복 횟수를 입력해 주세요 : \"))\n",
        "\n",
        "while d != 0:\n",
        "  num(int(input('숫자를 입력해 주세요: ')))\n",
        "  d = d-1"
      ],
      "metadata": {
        "colab": {
          "base_uri": "https://localhost:8080/"
        },
        "id": "aYwdHk6yijnj",
        "outputId": "20a98fa6-83d6-4cc1-fcbf-e230b49e49b0"
      },
      "execution_count": 53,
      "outputs": [
        {
          "output_type": "stream",
          "name": "stdout",
          "text": [
            "6 은 2와 3의 공배수\n",
            "1 은 2나 3의 배수가 아닙니다.\n",
            "2 은 2의 배수\n",
            "3 은 3의 배수\n",
            "4 은 2의 배수\n",
            "5 은 2나 3의 배수가 아닙니다.\n",
            "6 은 2와 3의 공배수\n",
            "7 은 2나 3의 배수가 아닙니다.\n",
            "8 은 2의 배수\n",
            "9 은 3의 배수\n",
            "10 은 2의 배수\n",
            "1 은 2나 3의 배수가 아닙니다.\n",
            "2 은 2의 배수\n",
            "3 은 3의 배수\n",
            "4 은 2의 배수\n",
            "5 은 2나 3의 배수가 아닙니다.\n",
            "6 은 2와 3의 공배수\n",
            "7 은 2나 3의 배수가 아닙니다.\n",
            "8 은 2의 배수\n",
            "9 은 3의 배수\n",
            "10 은 2의 배수\n",
            "반복 횟수를 입력해 주세요 : 3\n",
            "숫자를 입력해 주세요(0을 입력하면 종료됩니다.) : 12\n",
            "12 은 2와 3의 공배수\n",
            "숫자를 입력해 주세요(0을 입력하면 종료됩니다.) : 54\n",
            "54 은 2와 3의 공배수\n",
            "숫자를 입력해 주세요(0을 입력하면 종료됩니다.) : 12\n",
            "12 은 2와 3의 공배수\n"
          ]
        }
      ]
    },
    {
      "cell_type": "code",
      "source": [
        "A = int(input(print(\"첫 번째 숫자를 입력해 주세요 \")))\n",
        "B = int(input(print(\"두 번째 숫자를 입력해 주세요 \")))\n",
        "\n",
        "temp = 0\n",
        "\n",
        "if A<B :\n",
        " temp = A\n",
        "else :\n",
        " temp = B\n",
        "\n",
        "\n",
        "for i in range(2, temp):\n",
        "  if A % i == 0 and B % i == 0:\n",
        "    print(i, \" \")\n",
        "\n"
      ],
      "metadata": {
        "colab": {
          "base_uri": "https://localhost:8080/"
        },
        "id": "eT_7Rfb5wNS8",
        "outputId": "7b7f50ff-61e3-4720-b5dd-197cfc238e35"
      },
      "execution_count": 55,
      "outputs": [
        {
          "name": "stdout",
          "output_type": "stream",
          "text": [
            "첫 번째 숫자를 입력해 주세요 \n",
            "23\n",
            "두 번째 숫자를 입력해 주세요 \n",
            "156\n"
          ]
        }
      ]
    },
    {
      "cell_type": "code",
      "source": [
        "numbers = [6, 5, 3, 4, 10, 1, 8, 7]\n",
        "\n",
        "sum = 0\n",
        "temp = 0\n",
        "temp = int(input(\"숫자를 입력해 주세요 : \"))\n",
        "\n",
        "for i in numbers:\n",
        "  if i % temp == 0:\n",
        "    sum = sum + i\n",
        "\n",
        "print(temp, \"의 배수인 리스트 숫자의 합은 : \", sum)\n"
      ],
      "metadata": {
        "colab": {
          "base_uri": "https://localhost:8080/"
        },
        "id": "RNEvKrLS6-a9",
        "outputId": "59efde44-b517-444b-8174-0d51169551ff"
      },
      "execution_count": 1,
      "outputs": [
        {
          "output_type": "stream",
          "name": "stdout",
          "text": [
            "숫자를 입력해 주세요 : 10\n",
            "10 의 배수인 리스트 숫자의 합은 :  10\n"
          ]
        }
      ]
    },
    {
      "cell_type": "code",
      "source": [
        "numbers = [6, 5, 3, 4, 10, 1, 8, 7]\n",
        "\n",
        "temp = 0\n",
        "sum = 0\n",
        "temp = int(input(\"숫자를 입력해 주세요 : \"))\n",
        "for i in numbers:\n",
        "  if i < temp :\n",
        "    sum = sum + i\n",
        "\n",
        "print(temp, \"보다 작은 리스트 숫자의 합은 : \", sum)\n"
      ],
      "metadata": {
        "colab": {
          "base_uri": "https://localhost:8080/"
        },
        "id": "TR7m4hBwAQg2",
        "outputId": "5b6cfccb-917c-41bc-c5d0-25f8918def7e"
      },
      "execution_count": 3,
      "outputs": [
        {
          "output_type": "stream",
          "name": "stdout",
          "text": [
            "숫자를 입력해 주세요 : 5\n",
            "5 보다 작은 리스트 숫자의 합은 :  8\n"
          ]
        }
      ]
    },
    {
      "cell_type": "code",
      "source": [
        "numbers = [6, 5, 3, 4, 10, 1, 8, 7]\n",
        "\n",
        "temp = 0\n",
        "sum = 0\n",
        "temp = int(input(\"숫자를 입력해 주세요 : \"))\n",
        "for i in numbers:\n",
        "  if i > temp :\n",
        "    sum = sum + i\n",
        "\n",
        "print(temp, \"보다 큰 리스트 숫자의 합은 : \", sum) "
      ],
      "metadata": {
        "colab": {
          "base_uri": "https://localhost:8080/"
        },
        "id": "e363cL28ATFL",
        "outputId": "d5afbfff-7ab4-489e-b70e-cab6074d690a"
      },
      "execution_count": 4,
      "outputs": [
        {
          "output_type": "stream",
          "name": "stdout",
          "text": [
            "숫자를 입력해 주세요 : 5\n",
            "5 보다 큰 리스트 숫자의 합은 :  31\n"
          ]
        }
      ]
    },
    {
      "cell_type": "code",
      "source": [
        "# range(start, end, step) start 생략 시 자동 0\n",
        "print(list(range(3, 100, 3)))\n",
        "\n",
        "end = int(input(\"끝나는 수를 입력해 주세요 : \"))\n",
        "step = int(input(\"스텝 수를 입력해 주세요 : \"))\n",
        "\n",
        "print(tuple(range(0, end, step)))\n"
      ],
      "metadata": {
        "colab": {
          "base_uri": "https://localhost:8080/"
        },
        "id": "vrSMnKEYCu9M",
        "outputId": "8ca22540-7458-4494-a175-1c9be6bbf484"
      },
      "execution_count": 10,
      "outputs": [
        {
          "output_type": "stream",
          "name": "stdout",
          "text": [
            "[3, 6, 9, 12, 15, 18, 21, 24, 27, 30, 33, 36, 39, 42, 45, 48, 51, 54, 57, 60, 63, 66, 69, 72, 75, 78, 81, 84, 87, 90, 93, 96, 99]\n",
            "끝나는 수를 입력해 주세요 : 5\n",
            "스텝 수를 입력해 주세요 : 1\n",
            "(0, 1, 2, 3, 4)\n",
            "2~9 사이의 수를 입력해 주세요5\n",
            "[5]\n"
          ]
        }
      ]
    },
    {
      "cell_type": "code",
      "source": [
        "#숫자 입력 2~9 구구단\n",
        "go = int(input(\"2~9 사이의 수를 입력해 주세요 : \"))\n",
        "\n",
        "print(list(range(go, (go * 9 + 1), go)))"
      ],
      "metadata": {
        "colab": {
          "base_uri": "https://localhost:8080/"
        },
        "id": "Bs1ekgyyFM6L",
        "outputId": "b7a57702-7b13-453a-f94d-666f93618c70"
      },
      "execution_count": 13,
      "outputs": [
        {
          "output_type": "stream",
          "name": "stdout",
          "text": [
            "2~9 사이의 수를 입력해 주세요9\n",
            "[9, 18, 27, 36, 45, 54, 63, 72, 81]\n"
          ]
        }
      ]
    },
    {
      "cell_type": "code",
      "source": [
        "numbers = [0, 1, 2, 3, 4, 5, 6, 7, 8, 9, 100, 200]\n",
        "sum = 0\n",
        "sum2 = 0\n",
        "\n",
        "#len() 리스트 원소의 갯수\n",
        "\n",
        "for i in range(0, len(numbers), 2):\n",
        "    sum = sum + numbers[i]\n",
        "    if i<(len(numbers) - 1) :\n",
        "      sum2 = sum2 + numbers[i+1]\n",
        "\n",
        "print(\"짝수 번째인 리스트 숫자의 합은 : \", sum)\n",
        "print(\"홀수 번째인 리스트 숫자의 합은 : \", sum2)\n",
        "\n",
        "'''for i in range(1, len(numbers), 2):\n",
        "    sum2 = sum2 + numbers[i]\n",
        "\n",
        "print(\"홀수 번째인 리스트 숫자의 합은 : \", sum2)\n",
        "\n",
        "print(range(len(numbers)//2))'''"
      ],
      "metadata": {
        "colab": {
          "base_uri": "https://localhost:8080/",
          "height": 72
        },
        "id": "3vnR1MtHGjkG",
        "outputId": "7a210a94-cbb0-4d70-878b-a7117a6557d0"
      },
      "execution_count": 13,
      "outputs": [
        {
          "output_type": "stream",
          "name": "stdout",
          "text": [
            "짝수 번째인 리스트 숫자의 합은 :  120\n",
            "홀수 번째인 리스트 숫자의 합은 :  225\n"
          ]
        },
        {
          "output_type": "execute_result",
          "data": {
            "text/plain": [
              "'for i in range(1, len(numbers), 2):\\n    sum2 = sum2 + numbers[i]\\n\\nprint(\"홀수 번째인 리스트 숫자의 합은 : \", sum2)\\n\\nprint(range(len(numbers)//2))'"
            ],
            "application/vnd.google.colaboratory.intrinsic+json": {
              "type": "string"
            }
          },
          "metadata": {},
          "execution_count": 13
        }
      ]
    }
  ]
}