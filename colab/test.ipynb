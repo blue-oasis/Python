{
  "nbformat": 4,
  "nbformat_minor": 0,
  "metadata": {
    "colab": {
      "name": "test.ipynb",
      "provenance": [],
      "authorship_tag": "ABX9TyOCMCZsiX1xNfPxhJldiyNL",
      "include_colab_link": true
    },
    "kernelspec": {
      "name": "python3",
      "display_name": "Python 3"
    },
    "language_info": {
      "name": "python"
    }
  },
  "cells": [
    {
      "cell_type": "markdown",
      "metadata": {
        "id": "view-in-github",
        "colab_type": "text"
      },
      "source": [
        "<a href=\"https://colab.research.google.com/github/blue-oasis/Python/blob/main/colab/test.ipynb\" target=\"_parent\"><img src=\"https://colab.research.google.com/assets/colab-badge.svg\" alt=\"Open In Colab\"/></a>"
      ]
    },
    {
      "cell_type": "code",
      "execution_count": null,
      "metadata": {
        "id": "VrD6eG_0WDi2",
        "colab": {
          "base_uri": "https://localhost:8080/"
        },
        "outputId": "b533bd71-dab3-4313-d5ef-63aa5f535810"
      },
      "outputs": [
        {
          "output_type": "stream",
          "name": "stdout",
          "text": [
            "Hello World\n",
            "입력 테스트\n",
            "111\n",
            "111입니다\n",
            "숫자를 입력해 주세요1\n",
            "2\n"
          ]
        }
      ],
      "source": [
        "print(\"Hello World\")\n",
        "A = input(\"입력 테스트 : \\n\")\n",
        "print(A + \"입니다\")\n",
        "B = eval(input(\"숫자를 입력해 주세요 : \"))\n",
        "print(B +1)\n",
        "#주석"
      ]
    },
    {
      "cell_type": "markdown",
      "source": [
        ""
      ],
      "metadata": {
        "id": "l_l71RrMW57o"
      }
    },
    {
      "cell_type": "code",
      "source": [
        "#!cat /etc/issue.net #리눅스 명령어 os 확인\n",
        "#!cat /proc/cpuinfo #cpu 확인\n",
        "#!cat /proc/meminfo #메모리 확인\n",
        "#!df-h #하드디스크 확인\n",
        "!nvidia-smi #gpu 확인\n",
        "!python --version #python 버전 확인"
      ],
      "metadata": {
        "colab": {
          "base_uri": "https://localhost:8080/"
        },
        "id": "7bQ6OvjVZmxG",
        "outputId": "1cfc039d-da74-4cbe-b8c8-a040270be041"
      },
      "execution_count": null,
      "outputs": [
        {
          "output_type": "stream",
          "name": "stdout",
          "text": [
            "NVIDIA-SMI has failed because it couldn't communicate with the NVIDIA driver. Make sure that the latest NVIDIA driver is installed and running.\n",
            "\n",
            "Python 3.7.13\n"
          ]
        }
      ]
    },
    {
      "cell_type": "code",
      "source": [
        "x = True + 4\n",
        "print(x)\n",
        "y = False + 10\n",
        "print(y)\n",
        "a = (1 == True)\n",
        "print(a)\n",
        "b = (1 == False)\n",
        "print(b)"
      ],
      "metadata": {
        "id": "ir0eI5YFZwGG",
        "colab": {
          "base_uri": "https://localhost:8080/"
        },
        "outputId": "d02f15f9-2578-4022-93c6-26cb89c18ab2"
      },
      "execution_count": null,
      "outputs": [
        {
          "output_type": "stream",
          "name": "stdout",
          "text": [
            "5\n",
            "10\n",
            "True\n",
            "False\n"
          ]
        }
      ]
    },
    {
      "cell_type": "code",
      "source": [
        "t = (5, 'program', 1+3j)\n",
        "print(\"t[1] = \", t[1])\n",
        "print(\"t[0:3] = \", t[0:3]) \n",
        "\n",
        "# 튜플은 아이템 수정 지원하지 않음\n",
        "t[0] = 10"
      ],
      "metadata": {
        "colab": {
          "base_uri": "https://localhost:8080/",
          "height": 248
        },
        "id": "WKu0eIiDk63q",
        "outputId": "ca6dad05-22e4-44c9-e8d7-56649c12feb2"
      },
      "execution_count": null,
      "outputs": [
        {
          "output_type": "stream",
          "name": "stdout",
          "text": [
            "t[1] =  program\n",
            "t[0:3] =  (5, 'program', (1+3j))\n"
          ]
        },
        {
          "output_type": "error",
          "ename": "TypeError",
          "evalue": "ignored",
          "traceback": [
            "\u001b[0;31m---------------------------------------------------------------------------\u001b[0m",
            "\u001b[0;31mTypeError\u001b[0m                                 Traceback (most recent call last)",
            "\u001b[0;32m<ipython-input-7-98fa9afce5f7>\u001b[0m in \u001b[0;36m<module>\u001b[0;34m()\u001b[0m\n\u001b[1;32m      3\u001b[0m \u001b[0mprint\u001b[0m\u001b[0;34m(\u001b[0m\u001b[0;34m\"t[0:3] = \"\u001b[0m \u001b[0;34m,\u001b[0m \u001b[0mt\u001b[0m\u001b[0;34m[\u001b[0m\u001b[0;36m0\u001b[0m\u001b[0;34m:\u001b[0m\u001b[0;36m3\u001b[0m\u001b[0;34m]\u001b[0m\u001b[0;34m)\u001b[0m\u001b[0;34m\u001b[0m\u001b[0;34m\u001b[0m\u001b[0m\n\u001b[1;32m      4\u001b[0m \u001b[0;34m\u001b[0m\u001b[0m\n\u001b[0;32m----> 5\u001b[0;31m \u001b[0mt\u001b[0m\u001b[0;34m[\u001b[0m\u001b[0;36m0\u001b[0m\u001b[0;34m]\u001b[0m \u001b[0;34m=\u001b[0m \u001b[0;36m10\u001b[0m\u001b[0;34m\u001b[0m\u001b[0;34m\u001b[0m\u001b[0m\n\u001b[0m",
            "\u001b[0;31mTypeError\u001b[0m: 'tuple' object does not support item assignment"
          ]
        }
      ]
    },
    {
      "cell_type": "code",
      "source": [
        "s = 'Hello World'\n",
        "print(s)\n",
        "s = '''A muitline \n",
        "string'''\n",
        "print(s)\n",
        "\n",
        "s = 'Hello World'\n",
        "print(\"s[4] = \", s[4])\n",
        "print(\"s[6:11] = \", s[6:11])\n",
        "# s[5] = 'd' #string은 슬라이싱 연산자 통해 변경 불가\n",
        "\n",
        "str = 'cold'\n",
        "\n",
        "# enumerate() list의 (인덱스, 원소) 출력, dictionary 생성시 활용\n",
        "list_enumerate = list(enumerate(str))\n",
        "print('list(enumerate(str)) = ', list_enumerate)\n",
        "\n",
        "# 문자 수 카운트 len()\n",
        "print('len(str) = ', len(str))\n"
      ],
      "metadata": {
        "colab": {
          "base_uri": "https://localhost:8080/"
        },
        "id": "tIaAnBs8l18w",
        "outputId": "b7f31461-489d-4d69-c253-4387e9541907"
      },
      "execution_count": null,
      "outputs": [
        {
          "output_type": "stream",
          "name": "stdout",
          "text": [
            "Hello World\n",
            "A muitline \n",
            "string\n",
            "s[4] =  o\n",
            "s[6:11] =  World\n",
            "list(enumerate(str)) =  [(0, 'c'), (1, 'o'), (2, 'l'), (3, 'd')]\n",
            "len(str) =  4\n"
          ]
        }
      ]
    },
    {
      "cell_type": "code",
      "source": [
        "a = {1, 2, 2, 3, 3, 3} #set 생성\n",
        "print(a)\n",
        "print(type(a))\n",
        "\n",
        "my_set = {1, 3}\n",
        "print(my_set)\n",
        "\n",
        "my_set.add(2) # 아이템 1개 추가 .add\n",
        "print(my_set)\n",
        "\n",
        "my_set.update([2, 3, 4]) # 아이템 여러개 추가 .update 고유한 아이템만 추가됨\n",
        "print(my_set)\n",
        "\n",
        "my_set.update([4, 5], {1, 6, 8}) # 리스트, 셋의 원소 추가\n",
        "print(my_set)\n",
        "\n",
        "my_set.discard(1) #원소 1개 제거, 존재하지 없는 원소 제거 시에도 에러 x / remove는 에러 발생\n",
        "print(my_set)"
      ],
      "metadata": {
        "colab": {
          "base_uri": "https://localhost:8080/"
        },
        "id": "tPF-HG0yrkP4",
        "outputId": "59783d18-f63e-4100-a152-0d046f0b86e0"
      },
      "execution_count": 2,
      "outputs": [
        {
          "output_type": "stream",
          "name": "stdout",
          "text": [
            "{1, 2, 3}\n",
            "<class 'set'>\n",
            "{1, 3}\n",
            "{1, 2, 3}\n",
            "{1, 2, 3, 4}\n",
            "{1, 2, 3, 4, 5, 6, 8}\n",
            "{2, 3, 4, 5, 6, 8}\n"
          ]
        }
      ]
    }
  ]
}