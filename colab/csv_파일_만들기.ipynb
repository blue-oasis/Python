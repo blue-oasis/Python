{
  "nbformat": 4,
  "nbformat_minor": 0,
  "metadata": {
    "colab": {
      "name": "csv_파일_만들기.ipynb",
      "provenance": [],
      "include_colab_link": true
    },
    "kernelspec": {
      "name": "python3",
      "display_name": "Python 3"
    },
    "language_info": {
      "name": "python"
    }
  },
  "cells": [
    {
      "cell_type": "markdown",
      "metadata": {
        "id": "view-in-github",
        "colab_type": "text"
      },
      "source": [
        "<a href=\"https://colab.research.google.com/github/blue-oasis/Python/blob/main/colab/csv_%ED%8C%8C%EC%9D%BC_%EB%A7%8C%EB%93%A4%EA%B8%B0.ipynb\" target=\"_parent\"><img src=\"https://colab.research.google.com/assets/colab-badge.svg\" alt=\"Open In Colab\"/></a>"
      ]
    },
    {
      "cell_type": "code",
      "execution_count": null,
      "metadata": {
        "id": "0HEB7K6RlyoG"
      },
      "outputs": [],
      "source": [
        "import random\n",
        "import csv"
      ]
    },
    {
      "cell_type": "code",
      "source": [
        "def rand_num_gen(_nums, _min, _max):\n",
        "    res = []\n",
        "    for i in range(_nums):\n",
        "        num = random.randint(_min, _max)        \n",
        "        res.append(num)\n",
        "    return res"
      ],
      "metadata": {
        "id": "Mz4GSGSImIrN"
      },
      "execution_count": null,
      "outputs": []
    },
    {
      "cell_type": "code",
      "source": [
        "raw_datas = []\n",
        "raw_data = rand_num_gen(5, 1, 10)\n",
        "raw_datas.append(raw_data)    \n",
        "raw_data = rand_num_gen(3, 20, 30)\n",
        "raw_datas.append(raw_data)\n",
        "raw_data = rand_num_gen(10, 1, 10)\n",
        "raw_datas.append(raw_data)\n",
        "print(raw_datas) \n",
        "\n",
        "with open(\"ex_randint.csv\", mode = 'w+', encoding = 'utf-8-sig') as f:\n",
        "    w = csv.writer(f)\n",
        "    for i in raw_datas:\n",
        "        w.writerow(i)\n",
        "        print(i)    "
      ],
      "metadata": {
        "colab": {
          "base_uri": "https://localhost:8080/"
        },
        "id": "FekymRJJmci4",
        "outputId": "610d2c3e-fe17-4cbc-8524-950b0ab057b4"
      },
      "execution_count": null,
      "outputs": [
        {
          "output_type": "stream",
          "name": "stdout",
          "text": [
            "[[1, 8, 6, 9, 10], [29, 25, 21], [2, 5, 10, 2, 8, 7, 7, 1, 4, 10]]\n",
            "[1, 8, 6, 9, 10]\n",
            "[29, 25, 21]\n",
            "[2, 5, 10, 2, 8, 7, 7, 1, 4, 10]\n"
          ]
        }
      ]
    },
    {
      "cell_type": "code",
      "source": [
        "with open(\"ex_randint.csv\", mode = 'r', encoding = 'utf-8-sig') as f:\n",
        "    raw_data = f.readline()\n",
        "    print(raw_data)\n",
        "    raw_datas = f.readlines()\n",
        "    print(raw_datas)\n",
        "    f.seek(0)\n",
        "    raw_datas = f.readlines()\n",
        "    print(raw_datas)\n"
      ],
      "metadata": {
        "colab": {
          "base_uri": "https://localhost:8080/"
        },
        "id": "pbUoFeQ1nUVq",
        "outputId": "fb972534-8eca-4cda-c136-980ed38d1efb"
      },
      "execution_count": null,
      "outputs": [
        {
          "output_type": "stream",
          "name": "stdout",
          "text": [
            "1,8,6,9,10\n",
            "\n",
            "['29,25,21\\n', '2,5,10,2,8,7,7,1,4,10\\n']\n",
            "['1,8,6,9,10\\n', '29,25,21\\n', '2,5,10,2,8,7,7,1,4,10\\n']\n"
          ]
        }
      ]
    },
    {
      "cell_type": "code",
      "source": [
        "with open(\"ex_randint2.csv\", mode = 'w+', encoding = 'utf-8-sig') as f:\n",
        "    raw_datas = []\n",
        "    raw_data = rand_num_gen(5, 1, 10)\n",
        "    raw_datas.append(raw_data)    \n",
        "    raw_data = rand_num_gen(3, 20, 30)\n",
        "    raw_datas.append(raw_data)\n",
        "    raw_data = rand_num_gen(10, 1, 10)\n",
        "    raw_datas.append(raw_data)\n",
        "    print(raw_datas)\n",
        "\n",
        "    for row in raw_datas:\n",
        "        row_len = len(row)\n",
        "        for col in range(len(row)):\n",
        "            f.write(str(row[col]))\n",
        "            if col < row_len-1:\n",
        "                f.write(\",\")\n",
        "            else:\n",
        "                f.write(\"\\n\")\n"
      ],
      "metadata": {
        "colab": {
          "base_uri": "https://localhost:8080/"
        },
        "id": "v8gb7eENExKv",
        "outputId": "88589e56-cc24-4d87-f93d-f6b449649a75"
      },
      "execution_count": null,
      "outputs": [
        {
          "output_type": "stream",
          "name": "stdout",
          "text": [
            "[[4, 2, 5, 5, 1], [25, 27, 30], [2, 7, 4, 7, 10, 9, 5, 8, 3, 3]]\n"
          ]
        }
      ]
    },
    {
      "cell_type": "code",
      "source": [
        "with open(\"ex_randint2.csv\", mode = 'r', encoding = 'utf-8-sig') as f:\n",
        "    raw_data = f.readline()\n",
        "    print(raw_data)\n",
        "    raw_datas = f.readlines()\n",
        "    print(raw_datas)\n",
        "    f.seek(0)\n",
        "    raw_datas = f.readlines()\n",
        "    print(raw_datas)"
      ],
      "metadata": {
        "colab": {
          "base_uri": "https://localhost:8080/"
        },
        "id": "cu_h1k2DFkIC",
        "outputId": "707a0ec3-8cf6-4c00-bfca-aa8ef95417b9"
      },
      "execution_count": null,
      "outputs": [
        {
          "output_type": "stream",
          "name": "stdout",
          "text": [
            "4,2,5,5,1\n",
            "\n",
            "['25,27,30\\n', '2,7,4,7,10,9,5,8,3,3\\n']\n",
            "['4,2,5,5,1\\n', '25,27,30\\n', '2,7,4,7,10,9,5,8,3,3\\n']\n"
          ]
        }
      ]
    }
  ]
}