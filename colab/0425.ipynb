{
  "nbformat": 4,
  "nbformat_minor": 0,
  "metadata": {
    "colab": {
      "name": "0425.ipynb",
      "provenance": [],
      "authorship_tag": "ABX9TyOBBsiC6aVblOKyKrWXrpRh",
      "include_colab_link": true
    },
    "kernelspec": {
      "name": "python3",
      "display_name": "Python 3"
    },
    "language_info": {
      "name": "python"
    }
  },
  "cells": [
    {
      "cell_type": "markdown",
      "metadata": {
        "id": "view-in-github",
        "colab_type": "text"
      },
      "source": [
        "<a href=\"https://colab.research.google.com/github/blue-oasis/Python/blob/main/colab/0425.ipynb\" target=\"_parent\"><img src=\"https://colab.research.google.com/assets/colab-badge.svg\" alt=\"Open In Colab\"/></a>"
      ]
    },
    {
      "cell_type": "code",
      "execution_count": null,
      "metadata": {
        "colab": {
          "base_uri": "https://localhost:8080/"
        },
        "id": "ot0ZHKCmHTAN",
        "outputId": "b8802f1f-69d6-4ed8-b8e4-0a42e1c8c10c"
      },
      "outputs": [
        {
          "output_type": "stream",
          "name": "stdout",
          "text": [
            "숫자를 맞춰보세요(0~100) : 50\n",
            "up!\n",
            "숫자를 맞춰보세요(0~100) : 60\n",
            "down!\n",
            "숫자를 맞춰보세요(0~100) : 55\n",
            "down!\n",
            "숫자를 맞춰보세요(0~100) : 54\n",
            "down!\n",
            "숫자를 맞춰보세요(0~100) : 53\n",
            "down!\n",
            "숫자를 맞춰보세요(0~100) : 52\n",
            "down!\n",
            "숫자를 맞춰보세요(0~100) : 51\n",
            "정답입니다!\n"
          ]
        }
      ],
      "source": [
        "#숫자 업다운 게임\n",
        "import random\n",
        "\n",
        "num = random.randint(0,100)\n",
        "\n",
        "#print(num)\n",
        "\n",
        "while True :\n",
        "  answer = int(input(\"숫자를 맞춰보세요(0~100) : \"))\n",
        "  if answer == num :\n",
        "    print('정답입니다!')\n",
        "    break \n",
        "  elif answer > num : \n",
        "    print('down!')\n",
        "  elif answer < num : \n",
        "    print('up!')\n",
        "\n",
        "\n"
      ]
    },
    {
      "cell_type": "code",
      "source": [
        "with open('test.txt', 'w+', encoding='utf-8') as f:\n",
        "  f.write(\"학번 : 2201340008 \\n\")\n",
        "  f.write(\"이름 : 박지원\\n\")\n",
        "  f.write(\"여\")\n",
        " \n",
        "\n",
        "#print(f.readline())"
      ],
      "metadata": {
        "id": "qGVIkF6-vXo4"
      },
      "execution_count": null,
      "outputs": []
    },
    {
      "cell_type": "markdown",
      "source": [
        "with open('파일이름.txt', '모드', encoding='utf-8(인코딩') as f(변수명):\n",
        "\n",
        "\n",
        "  w+ 기존 내용 지우고 덮어쓰기\n",
        "  a+ 기존 내용 뒤에 이어쓰기"
      ],
      "metadata": {
        "id": "zdTVuV1txkZ1"
      }
    }
  ]
}