{
  "nbformat": 4,
  "nbformat_minor": 0,
  "metadata": {
    "colab": {
      "name": "0510 자료구조.ipynb",
      "provenance": [],
      "authorship_tag": "ABX9TyMySh3SgsjdHu+Bc6hk+7j2",
      "include_colab_link": true
    },
    "kernelspec": {
      "name": "python3",
      "display_name": "Python 3"
    },
    "language_info": {
      "name": "python"
    }
  },
  "cells": [
    {
      "cell_type": "markdown",
      "metadata": {
        "id": "view-in-github",
        "colab_type": "text"
      },
      "source": [
        "<a href=\"https://colab.research.google.com/github/blue-oasis/Python/blob/main/colab/0510_%EC%9E%90%EB%A3%8C%EA%B5%AC%EC%A1%B0.ipynb\" target=\"_parent\"><img src=\"https://colab.research.google.com/assets/colab-badge.svg\" alt=\"Open In Colab\"/></a>"
      ]
    },
    {
      "cell_type": "code",
      "execution_count": 69,
      "metadata": {
        "colab": {
          "base_uri": "https://localhost:8080/",
          "height": 35
        },
        "id": "C_7x3zIXrCk5",
        "outputId": "d7d5a650-efe7-4af9-ea99-0994e7292342"
      },
      "outputs": [
        {
          "output_type": "execute_result",
          "data": {
            "text/plain": [
              "'카운트 변형 (2중리스트 고려) count = 0\\n    for i in self.__bag : \\n  count += len(i)'"
            ],
            "application/vnd.google.colaboratory.intrinsic+json": {
              "type": "string"
            }
          },
          "metadata": {},
          "execution_count": 69
        }
      ],
      "source": [
        "class Bag : #상속시 class name(부모클래스 이름)\n",
        "# __bag = [] 하면 객체간 공유하는 클래스 속성\n",
        "  def __init__(self) : \n",
        "    self.__bag = [] #인스턴스 변수\n",
        "\n",
        "  def insert(self, a) : \n",
        "    print(\"가방에\", a , \"넣었습니다\")\n",
        "    self.__bag.append(a)\n",
        "    \n",
        "  def remove(self, a) :\n",
        "    if a in self.__bag : \n",
        "      print(\"가방에서\", a , \"꺼냈습니다\")\n",
        "      self.__bag.remove(a)\n",
        "  \n",
        "  def contains(self, a) :\n",
        "    if a in self.__bag : \n",
        "      print(a , \"is Ture\")\n",
        "      return True\n",
        "    else : \n",
        "      print(a , \"is False\")\n",
        "      return False\n",
        "\n",
        "  def count(self) :\n",
        "    print(len(self.__bag))\n",
        "    return len(self.__bag)\n",
        "\n",
        "  def clean(self) : \n",
        "    print(\"가방을 비웠습니다.\")\n",
        "    self.__bag.clear()\n",
        "\n",
        "  def what(self) : \n",
        "    print(self.__bag)\n",
        "\n",
        "'''카운트 변형 (2중리스트 고려) count = 0\n",
        "    for i in self.__bag : \n",
        "  count += len(i)'''\n"
      ]
    },
    {
      "cell_type": "code",
      "source": [
        "b = Bag()\n",
        "b.clean()\n",
        "b.insert(\"지갑\")\n",
        "b.insert(\"휴대폰\")\n",
        "b.insert(\"동전\")\n",
        "b.what()\n",
        "b.remove(\"동전\")\n",
        "b.contains(\"휴대폰\")\n",
        "b.what()\n",
        "\n",
        "c = Bag()\n",
        "c.insert(\"거울\")\n",
        "c.what()\n",
        "\n",
        "aa = [0, 1, 2, 3]\n",
        "\n",
        "aa[1] = 3\n",
        "\n",
        "print(aa)"
      ],
      "metadata": {
        "colab": {
          "base_uri": "https://localhost:8080/"
        },
        "id": "wfbac78ntbXb",
        "outputId": "d34acfcf-b9cc-4537-dbff-4f09e0e0bd3b"
      },
      "execution_count": 72,
      "outputs": [
        {
          "output_type": "stream",
          "name": "stdout",
          "text": [
            "가방을 비웠습니다.\n",
            "가방에 지갑 넣었습니다\n",
            "가방에 휴대폰 넣었습니다\n",
            "가방에 동전 넣었습니다\n",
            "['지갑', '휴대폰', '동전']\n",
            "가방에서 동전 꺼냈습니다\n",
            "휴대폰 is Ture\n",
            "['지갑', '휴대폰']\n",
            "가방에 거울 넣었습니다\n",
            "['거울']\n",
            "[0, 3, 2, 3]\n"
          ]
        }
      ]
    },
    {
      "cell_type": "code",
      "source": [
        "class List : \n",
        "\n",
        "  def __init__(self) : \n",
        "    self.__L = [] #인스턴스 변수\n",
        "\n",
        "  def insert(self, num, a) : \n",
        "    if num < len(self.__L) : \n",
        "      self.__L.insert(num, a)\n",
        "      print(num , \"위치에 \" , a ,\"넣었습니다.\")\n",
        "    \n",
        "    else:\n",
        "      print(num , \"번이 존재하지 않습니다.\")\n",
        "    \n",
        "  def delete(self, num) :\n",
        "    if num < len(self.__L) : \n",
        "      print(self.__L.pop(num))\n",
        "      print(\"현재 리스트 : \" ,self.__L)\n",
        "  \n",
        "  def isEmpty(self) :\n",
        "    if len(self.__L) == 0 : \n",
        "      print(\"List is Empty\")\n",
        "      return True\n",
        "    else : \n",
        "      print(\"List is not Empty\")\n",
        "      return False\n",
        "\n",
        "  def getEntry(self, n):\n",
        "    if n < len(self.__L) :\n",
        "      print(n, \"번째 요소는 : \", self.__L[n]) \n",
        "      return self.__L[n]\n",
        "    \n",
        "    else : \n",
        "      print(\"index 오류\")\n",
        "\n",
        "  def size(self) :\n",
        "    print(\"리스트의 크기는 :  \", len(self.__L))\n",
        "    return len(self.__L)\n",
        "\n",
        "  def clean(self) : \n",
        "    print(\"리스트를 비웠습니다.\")\n",
        "    self.__L.clear()\n",
        "\n",
        "  def find(self, a) :\n",
        "    if a in self.__L : \n",
        "      n = self.__L.index(a)\n",
        "      print(a, \"는 리스트의\", n , \"번째 인덱스에 있습니다.\")\n",
        "    else :\n",
        "      print(a, \"는 리스트에 없습니다.\")\n",
        "      \n",
        "  def replace(self, n, a) :\n",
        "    if n < len(self.__L) :\n",
        "      self.__L[n] = a\n",
        "      print(a, \"를\", n,  \"번째에 넣었습니다, 현재 리스트 : \",self.__L)\n",
        "\n",
        "    else : \n",
        "      print(\"index 오류\")\n",
        "\n",
        "  def sort(self, R = True) : \n",
        "    if R : \n",
        "      self.__L.sort()\n",
        "      print(self.__L)\n",
        "    \n",
        "    else :\n",
        "      self.__L.sort(reverse=True)\n",
        "      print(self.__L)\n",
        "\n",
        "  def merge(self, list) :\n",
        "    self.__L.extend(list)\n",
        "    print(\"현재 리스트 : \", self.__L)\n",
        "\n",
        "  def display(self) : \n",
        "     print(\"리스트 : \" ,self.__L)\n",
        "\n",
        "  def append(self, a) : \n",
        "    self.__L.append(a)\n",
        "    print(\"현재 리스트 : \" ,self.__L)\n",
        "\n",
        "\n"
      ],
      "metadata": {
        "id": "d9eZihZWjq1r"
      },
      "execution_count": 125,
      "outputs": []
    },
    {
      "cell_type": "code",
      "source": [
        "list_a = List()\n",
        "\n",
        "list_a.merge([1, 2, 3, 4, 5])\n",
        "\n",
        "list_a.insert(0, 1)\n",
        "list_a.insert(0, 2)\n",
        "list_a.insert(3, 9)\n",
        "\n",
        "list_a.display()\n",
        "\n",
        "list_a.delete(1)\n",
        "list_a.isEmpty()\n",
        "\n",
        "list_a.getEntry(3)\n",
        "\n",
        "list_a.size()\n",
        "\n",
        "list_a.find(1)\n",
        "\n",
        "list_a.replace(1, 8)\n",
        "\n",
        "list_a.sort()\n",
        "list_a.sort(False)\n",
        "\n",
        "list_a.append(0)\n",
        "\n",
        "list_a.delete(1)\n"
      ],
      "metadata": {
        "colab": {
          "base_uri": "https://localhost:8080/"
        },
        "id": "Z1fsRRKzpMQk",
        "outputId": "568a86c8-a92e-417c-a07f-acd794dd3b06"
      },
      "execution_count": 126,
      "outputs": [
        {
          "output_type": "stream",
          "name": "stdout",
          "text": [
            "현재 리스트 :  [1, 2, 3, 4, 5]\n",
            "0 위치에  1 넣었습니다.\n",
            "0 위치에  2 넣었습니다.\n",
            "3 위치에  9 넣었습니다.\n",
            "리스트 :  [2, 1, 1, 9, 2, 3, 4, 5]\n",
            "1\n",
            "현재 리스트 :  [2, 1, 9, 2, 3, 4, 5]\n",
            "List is not Empty\n",
            "3 번째 요소는 :  2\n",
            "리스트의 크기는 :   7\n",
            "1 는 리스트의 1 번째 인덱스에 있습니다.\n",
            "8 를 1 번째에 넣었습니다, 현재 리스트 :  [2, 8, 9, 2, 3, 4, 5]\n",
            "[2, 2, 3, 4, 5, 8, 9]\n",
            "[9, 8, 5, 4, 3, 2, 2]\n",
            "현재 리스트 :  [9, 8, 5, 4, 3, 2, 2, 0]\n",
            "8\n",
            "현재 리스트 :  [9, 5, 4, 3, 2, 2, 0]\n"
          ]
        }
      ]
    },
    {
      "cell_type": "code",
      "source": [
        "import pickle\n",
        "\n",
        "filePath = './test.txt'\n",
        "testList = ['123', '456', 'abc', 'def']\n",
        "with open(filePath, 'wb') as lf:\n",
        "    pickle.dump(testList, lf)\n",
        "\n",
        "\n",
        "with open(filePath, 'rb') as lf:\n",
        "    readList = pickle.load(lf)\n",
        "    print(readList)\n",
        "    # ['123', '456', 'abc', 'def']\n",
        "\n",
        "#i : 라인 삽입, d : 라인 삭제, r  : 라인 변경, p : 현재 내용 라인번호와 같이 출력, l : 파일 입력 (지정 파일로부터 라인 읽어 들임), s : 편집 내용 저장, q : 편집기 종료\n",
        "\n",
        "test = [[]]\n",
        "\n",
        "def i(L, num, str) :\n",
        "  for i in L :\n",
        "    pass"
      ],
      "metadata": {
        "colab": {
          "base_uri": "https://localhost:8080/"
        },
        "id": "bW2-OZzJ6cC-",
        "outputId": "547aefe8-a33d-43fb-cbe9-0f25733e1971"
      },
      "execution_count": 135,
      "outputs": [
        {
          "output_type": "stream",
          "name": "stdout",
          "text": [
            "['123', '456', 'abc', 'def']\n"
          ]
        }
      ]
    }
  ]
}