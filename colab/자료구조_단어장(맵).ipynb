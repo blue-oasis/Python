{
  "nbformat": 4,
  "nbformat_minor": 0,
  "metadata": {
    "colab": {
      "name": "(자료구조) 단어장(맵).ipynb",
      "provenance": []
    },
    "kernelspec": {
      "name": "python3",
      "display_name": "Python 3"
    },
    "language_info": {
      "name": "python"
    }
  },
  "cells": [
    {
      "cell_type": "code",
      "execution_count": 1,
      "metadata": {
        "id": "LrSFDX3l2J0t"
      },
      "outputs": [],
      "source": [
        "class Entry:\n",
        "    def __init__( self, key, value ):\n",
        "        self.key = key\n",
        "        self.value = value\n",
        "\n",
        "    def __str__( self ):\n",
        "        return str(\"%s:%s\"%(self.key, self.value) )"
      ]
    },
    {
      "cell_type": "code",
      "source": [
        "def sequential_search(A, key, low, high) :\t\n",
        "    for i in range(low, high+1) :\t\t\t\n",
        "        if A[i].key == key :  \t\t\t\t\n",
        "            return i \t\t\t\t\t\t\n",
        "    return None\t"
      ],
      "metadata": {
        "id": "gDK9NmQI2-hq"
      },
      "execution_count": 3,
      "outputs": []
    },
    {
      "cell_type": "code",
      "source": [
        "class SequentialMap:\t\t\t\t\t\t\t\n",
        "    def __init__( self ):\n",
        "        self.table = []\t\t\t\t\t    \t\n",
        "\n",
        "    def size( self ): return len(self.table)\t\n",
        "    def display(self, msg):\t\t\t\t    \t\n",
        "        print(msg)\n",
        "        for entry in self.table :\t\t\t\t\n",
        "            print(\"  \", entry)\t\t\t\t\t\n",
        "\n",
        "    def insert(self, key, value) :\t\t\t\t\n",
        "        self.table.append(Entry(key, value))\t\n",
        "\n",
        "    def search(self, key) :             \t\t\n",
        "        pos = sequential_search(self.table, key, 0, self.size()-1)\n",
        "        if pos is not None : return self.table[pos]\n",
        "        else : return None\n",
        "\n",
        "    def delete(self, key) :\t\t\t\t\t\n",
        "        for i in range(self.size()):\n",
        "            if self.table[i].key == key :\t\n",
        "                self.table.pop(i)\t\t\t\n",
        "                return\n",
        "\n",
        "map = SequentialMap()\t\t\t\t\t\t\n",
        "map.insert('data', '자료')\t\t\t\t\t\n",
        "map.insert('structure', '구조')\n",
        "map.insert('sequential search', '선형 탐색')\n",
        "map.insert('game', '게임')\n",
        "map.insert('binary search', '이진 탐색')\t\n",
        "map.display(\"나의 단어장: \")\t\t\t\n",
        "\n",
        "print(\"탐색:game --> \", map.search('game'))\t\n",
        "print(\"탐색:over --> \", map.search('over'))\n",
        "print(\"탐색:data --> \", map.search('data'))\n",
        "\n",
        "map.delete('game')\t\t\t\t\t\t\n",
        "map.display(\"나의 단어장: \")"
      ],
      "metadata": {
        "colab": {
          "base_uri": "https://localhost:8080/"
        },
        "id": "beF8p8AX2XHD",
        "outputId": "45b103ae-e27e-4e9c-ef3b-9596ff8f0c04"
      },
      "execution_count": 4,
      "outputs": [
        {
          "output_type": "stream",
          "name": "stdout",
          "text": [
            "나의 단어장: \n",
            "   data:자료\n",
            "   structure:구조\n",
            "   sequential search:선형 탐색\n",
            "   game:게임\n",
            "   binary search:이진 탐색\n",
            "탐색:game -->  game:게임\n",
            "탐색:over -->  None\n",
            "탐색:data -->  data:자료\n",
            "나의 단어장: \n",
            "   data:자료\n",
            "   structure:구조\n",
            "   sequential search:선형 탐색\n",
            "   binary search:이진 탐색\n"
          ]
        }
      ]
    },
    {
      "cell_type": "code",
      "source": [
        "class Node:\n",
        "    def __init__( self, data, link=None ):\n",
        "        self.data = data\n",
        "        self.link = link\n",
        "\n",
        "class HashChainMap:\t\t\t\t\t\t\n",
        "    def __init__( self, M ):\n",
        "        self.table = [None]*M\t\t\t\n",
        "        self.M = M\n",
        "\n",
        "    def hashFn(self, key) :\t\t\t\t\n",
        "        sum = 0\n",
        "        for c in key :\t\t\t\t\t\n",
        "            sum = sum +  ord(c)\t\t\t\n",
        "        return sum % self.M\n",
        "\n",
        "    def insert(self, key, value) :\t\t\n",
        "        idx = self.hashFn(key)\t\t\t\n",
        "        self.table[idx] = Node(Entry(key,value), self.table[idx])\t\n",
        "\n",
        "    def search(self, key) :\n",
        "        idx = self.hashFn(key)\n",
        "        node = self.table[idx]\n",
        "        while node is not None:\n",
        "            if node.data.key == key :\n",
        "                return node.data\n",
        "            node = node.link\n",
        "        return None\n",
        "\n",
        "    def delete(self, key) :\n",
        "        idx = self.hashFn(key)\n",
        "        node = self.table[idx]\n",
        "        before = None\n",
        "        while node is not None:         \t\t\n",
        "            if node.data.key == key :   \t\t\n",
        "                if before == None :     \t\t\n",
        "                    self.table[idx] = node.link\n",
        "                else :                  \t\t\n",
        "                    before.link = node.link\n",
        "                return\n",
        "            before = node\t\t\t\t\t\t\n",
        "            node = node.link\t\t\t\t\t\n",
        "\n",
        "    def display(self, msg):\n",
        "        print(msg)\n",
        "        for idx in range(len(self.table)) :\n",
        "            node = self.table[idx]\n",
        "            if node is not None :\n",
        "                print(\"[%2d] -> \"%idx, end='')\n",
        "                while node is not None:\n",
        "                    print(node.data, end=' -> ')\n",
        "                    node = node.link\n",
        "                print()\n",
        "\n",
        "map = HashChainMap(10)\t\t\t\t\t\t\n",
        "map.insert('data', '자료')\t\t\t\t\t\n",
        "map.insert('structure', '구조')\n",
        "map.insert('sequential search', '선형 탐색')\n",
        "map.insert('game', '게임')\n",
        "map.insert('binary search', '이진 탐색')\t\n",
        "map.display(\"나의 단어장: \")\t\t\t\n",
        "\n",
        "print(\"탐색:game --> \", map.search('game'))\t\n",
        "print(\"탐색:over --> \", map.search('over'))\n",
        "print(\"탐색:data --> \", map.search('data'))\n",
        "\n",
        "map.delete('game')\t\t\t\t\t\t\n",
        "map.display(\"나의 단어장: \")"
      ],
      "metadata": {
        "colab": {
          "base_uri": "https://localhost:8080/"
        },
        "id": "7IrgZyFs2f5O",
        "outputId": "9c92e466-0fb7-4b57-e159-9e675bd8929f"
      },
      "execution_count": 7,
      "outputs": [
        {
          "output_type": "stream",
          "name": "stdout",
          "text": [
            "나의 단어장: \n",
            "[ 0] -> game:게임 -> data:자료 -> \n",
            "[ 5] -> sequential search:선형 탐색 -> \n",
            "[ 7] -> binary search:이진 탐색 -> \n",
            "[ 9] -> structure:구조 -> \n",
            "탐색:game -->  game:게임\n",
            "탐색:over -->  None\n",
            "탐색:data -->  data:자료\n",
            "나의 단어장: \n",
            "[ 0] -> data:자료 -> \n",
            "[ 5] -> sequential search:선형 탐색 -> \n",
            "[ 7] -> binary search:이진 탐색 -> \n",
            "[ 9] -> structure:구조 -> \n"
          ]
        }
      ]
    },
    {
      "cell_type": "code",
      "source": [
        "d = {}\t\t\t\t\t\t\t\t\t\n",
        "d['data'] =  '자료'\t\t\t\t\t\t\n",
        "d['structure'] = '구조'\n",
        "d['sequential search'] = '선형 탐색'\n",
        "d['game'] = '게임'\n",
        "d['binary search'] = '이진 탐색'\n",
        "print(\"나의 단어장:\")\n",
        "print(d)\t\t\t\t\t\t\t\t\n",
        "\n",
        "if d.get('game') : print(\"탐색:game --> \", d['game'])\n",
        "if d.get('over') : print(\"탐색:over --> \", d['over'])\n",
        "if d.get('data') : print(\"탐색:data --> \", d['data'])\n",
        "\n",
        "d.pop('game')\t\t\t\t\t\t\n",
        "print(\"나의 단어장:\")\n",
        "print(d)"
      ],
      "metadata": {
        "colab": {
          "base_uri": "https://localhost:8080/"
        },
        "id": "hObt7Yfn3h9a",
        "outputId": "4289b27c-35f1-4696-e60a-c07770ab7faf"
      },
      "execution_count": 8,
      "outputs": [
        {
          "output_type": "stream",
          "name": "stdout",
          "text": [
            "나의 단어장:\n",
            "{'data': '자료', 'structure': '구조', 'sequential search': '선형 탐색', 'game': '게임', 'binary search': '이진 탐색'}\n",
            "탐색:game -->  게임\n",
            "탐색:data -->  자료\n",
            "나의 단어장:\n",
            "{'data': '자료', 'structure': '구조', 'sequential search': '선형 탐색', 'binary search': '이진 탐색'}\n"
          ]
        }
      ]
    }
  ]
}