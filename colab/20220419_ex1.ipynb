{
  "nbformat": 4,
  "nbformat_minor": 0,
  "metadata": {
    "colab": {
      "name": "20220419_ex1.ipynb",
      "provenance": [],
      "include_colab_link": true
    },
    "kernelspec": {
      "name": "python3",
      "display_name": "Python 3"
    },
    "language_info": {
      "name": "python"
    }
  },
  "cells": [
    {
      "cell_type": "markdown",
      "metadata": {
        "id": "view-in-github",
        "colab_type": "text"
      },
      "source": [
        "<a href=\"https://colab.research.google.com/github/blue-oasis/Python/blob/main/colab/20220419_ex1.ipynb\" target=\"_parent\"><img src=\"https://colab.research.google.com/assets/colab-badge.svg\" alt=\"Open In Colab\"/></a>"
      ]
    },
    {
      "cell_type": "markdown",
      "source": [
        "환경 : 학년은 6학년까지, 학년당 반은 5, 한반에 학습 수는 1반: 5, 2반:4, 3반: 5, 4반: 3, 5반 :4명\n",
        "\n",
        "1. 국어 점수를 입력받아서, 저장. 단, 점수의 범위는 0~100점\n",
        "2. 실수를 함. 어떤 학생들은 점수가 -xx, >100 으로 입력. 각 학년에 모두 이런 실수가 있음\n",
        "3. 나는 실수를 바로 잡고 싶어요.\n",
        "4. 그런데, 점수를 전부 다 다시 입력 받는 작업은 하고 싶지 않아요.\n",
        "5. 그래서, 내가 잘못 입력한 점수를 찾아내고, 그 부분만 새롭게 점수를 입력하고 싶어요.\n",
        "\n",
        "6. 이런 작업을 함수를 이용해서 작성\n",
        "   - 학생들의 국어 점수를 입력하는 함수\n",
        "   - 점수를 검증하는 함수(잘못된 입력을 찾는 함수)\n",
        "   - 점수를 수정할 수 있는 함수\n",
        "\n",
        "7. 각 학년에서, 평균 점수가 가장 높은 반과 가장 낮은 반이 어느 반인지 교장선생님께 알려드려야 해요.\n",
        "\n",
        "8. 학년의 평균 점수보다 낮은 점수를 가진 학생들은, 방과 후에 보충수업을 해야 해요. 그래서 그 인원이 누구인지 찾아내야 합니다. 즉 보충 수업을 받을 학생 명단을 작성해야 해요.\n",
        "\n",
        "\n",
        "\n"
      ],
      "metadata": {
        "id": "fUKfn-jdYgWI"
      }
    },
    {
      "cell_type": "code",
      "execution_count": null,
      "metadata": {
        "id": "9bDQuOFUYcJO"
      },
      "outputs": [],
      "source": [
        ""
      ]
    },
    {
      "cell_type": "code",
      "source": [
        "import random\n",
        "import numpy\n",
        "\n",
        "#입력시 학년 int값은 출력시 예쁘게 표시하는 용도 처리에는 의미없음..\n",
        "#점수입력 inscore(학년 int) 리턴 받을 리스트 필요\n",
        "#오입력 탐지 find(학년 int, 점수 list) 입력한 점수 리스트로 리턴 받으면 됨\n",
        "#평균 1등 꼴등반 구하기 mean(학년 int, 점수 list) 리턴 필요없음\n",
        "#학년 평균 이하 점수 보충학습 대상 출력 find_s(학년 int, 점수 list)\n",
        "\n",
        "ban = [1, 2] #반 갯수\n",
        "n = [[1, 2, 3, 4, 5], [1, 2, 3, 4], [1, 2, 3, 4, 5], [1, 2, 3], [1, 2, 3, 4]] #반 별 학생 수(번호)\n",
        "\n",
        "def inscore(num): \n",
        "#학년별 점수 입력 함수\n",
        "#입력 형식 : (학년 - int)\n",
        "#출력 : 2차원 점수 리스트 [[1반], [2반], [3반].....] \n",
        " socre_in = []\n",
        " socre_out = [] \n",
        "\n",
        " for i in range(1):\n",
        "\n",
        "      for k in range(len(ban)):\n",
        "        print(num, \"학년\" , k + 1 , '반 점수를 입력해 주세요 :' ,  len(n[k])  , \"명\") #명수 조건검사 추가\n",
        "        score_in = list(map(int,input().split()))\n",
        "\n",
        "        while(len(score_in) != len(n[k])):\n",
        "          print(len(n[k]), \"개를 입력해 주세요 : 갯수 오류\")\n",
        "          score_in = list(map(int,input().split()))\n",
        "\n",
        "        socre_out.append(score_in)\n",
        "\n",
        " return socre_out\n",
        "\n",
        "\n",
        "\n",
        "def find(num ,L):\n",
        "  #오입력 탐지 함수. 입력 형식 : (학년 - int , 학년 성적 - list)\n",
        "  #리턴 :  수정 완료된 점수 리스트\n",
        "  for i in range(len(L)) :\n",
        "\n",
        "    for j in range(len(L[i])) :\n",
        "\n",
        "      if L[i][j] < 0 or L[i][j] > 100 :\n",
        "        print(num, \"학년\", i + 1,\"반\", j +1,\"번 점수 범위를 벗어났습니다, 다시 입력해주세요 :\") \n",
        "        num = int(input())\n",
        "\n",
        "        while(num<0 or num>100):\n",
        "          print(\"점수 범위는 0~100 까지입니다. 다시 입력해주세요\")# 2차 조건검사 추가\n",
        "          num = int(input())\n",
        "\n",
        "        L[i][j] = num\n",
        "\n",
        "  return L\n",
        "\n",
        "\n",
        "\n",
        "def mean(num, L):\n",
        "  #평균 높은 반 출력 함수. 입력 형식 : (학년 - int , 학년 성적 - list)\n",
        "  #리턴값 없음, 바로 정보 프린트\n",
        "  m = []\n",
        "  m3 = []\n",
        "\n",
        "  for i in range(len(L)) :\n",
        "    m3 = L[i]\n",
        "    me = sum(m3)/len(m3)\n",
        "    m.append(me) #반 평균 리스트 만들기 max min index apened\n",
        "\n",
        "  Mn = m.index(max(m))  #index + 1 = 반\n",
        "  Nm = m.index(min(m))\n",
        "\n",
        "  print(num, \"학년 중 반 평균이 가장 높은 반은\", Mn+1, \"반, 가장 낮은 반은\",Nm+1, \"반 입니다.\")\n",
        "\n",
        "\n",
        "\n",
        "def mean_in(L):\n",
        "  #내부처리용 반별 평균 리스트 리턴 함수\n",
        "  m = []\n",
        "  m3 = []\n",
        "\n",
        "  for i in range(len(L)) :\n",
        "    m3 = L[i]\n",
        "    me = sum(m3)/len(m3)\n",
        "    m.append(me) #반 평균 리스트 만들기 max min index apened\n",
        "\n",
        "  return m\n",
        "\n",
        "\n",
        "def find_s(g, L):\n",
        "  #보충학습 대상 출력 함수\n",
        "  #입력형식 : (학년 - int, 성적 리스트 - list)\n",
        "  num = mean_in(L)\n",
        "  num_s = sum(num)/len(num) #학년 평균점수\n",
        "  print(g, \"학년 평균은\", num_s ,\"점 보충학습 대상 학생은\")\n",
        "\n",
        "  for i in range(len(L)) :\n",
        "\n",
        "    for j in range(len(L[i])) :\n",
        "\n",
        "      if L[i][j] < num_s :\n",
        "        print(i + 1,\"반\", j +1,\"번\") #조건검사\n",
        "\n",
        "#입력시 학년 int값은 출력시 예쁘게 표시하는 용도 처리에는 의미없음..\n",
        "#점수입력 inscore(학년 int)\n",
        "#오입력 탐지 find(학년 int, 점수 list)\n",
        "#평균 1등 꼴등반 구하기 mean(학년 int, 점수 list)\n",
        "#학년 평균 이하 점수 보충학습 대상 출력 find_s(학년 int, 점수 list)\n",
        "\n",
        "score_1 = inscore(1)\n",
        "score_1 = find(1, score_1)\n",
        "mean(1, score_1)\n",
        "find_s(1, score_1)\n",
        "\n",
        "'''score_2 = inscore(2)\n",
        "score_3 = inscore(3)\n",
        "score_4 = inscore(4)\n",
        "score_5 = inscore(5)\n",
        "score_6 = inscore(6)\n",
        "\n",
        "print(score_1) #'''\n"
      ],
      "metadata": {
        "colab": {
          "base_uri": "https://localhost:8080/",
          "height": 274
        },
        "id": "nfCGu7y66h-r",
        "outputId": "2f9ea94a-722d-4c5f-d47a-b671eea87960"
      },
      "execution_count": 27,
      "outputs": [
        {
          "output_type": "stream",
          "name": "stdout",
          "text": [
            "1 학년 1 반 점수를 입력해 주세요 : 5 명\n",
            "50 20 30 10 5\n",
            "1 학년 2 반 점수를 입력해 주세요 : 4 명\n",
            "33 04 9555 1\n",
            "1 학년 2 반 3 번 점수 범위를 벗어났습니다, 다시 입력해주세요 :\n",
            "50\n",
            "1 학년 중 반 평균이 가장 높은 반은 1 반, 가장 낮은 반은 2 반 입니다.\n",
            "1 학년 평균은 22.5 점 보충학습 대상 학생은\n",
            "1 반 2 번\n",
            "1 반 4 번\n",
            "1 반 5 번\n",
            "2 반 2 번\n",
            "2 반 4 번\n"
          ]
        },
        {
          "output_type": "execute_result",
          "data": {
            "text/plain": [
              "'score_2 = inscore(2)\\nscore_3 = inscore(3)\\nscore_4 = inscore(4)\\nscore_5 = inscore(5)\\nscore_6 = inscore(6)\\n\\nprint(score_1) #'"
            ],
            "application/vnd.google.colaboratory.intrinsic+json": {
              "type": "string"
            }
          },
          "metadata": {},
          "execution_count": 27
        }
      ]
    }
  ]
}