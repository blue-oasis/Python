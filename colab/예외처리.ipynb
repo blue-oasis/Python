{
  "nbformat": 4,
  "nbformat_minor": 0,
  "metadata": {
    "colab": {
      "name": "예외처리.ipynb",
      "provenance": [],
      "authorship_tag": "ABX9TyNKLmSioYaWeZ2ChAxgVrI9",
      "include_colab_link": true
    },
    "kernelspec": {
      "name": "python3",
      "display_name": "Python 3"
    },
    "language_info": {
      "name": "python"
    }
  },
  "cells": [
    {
      "cell_type": "markdown",
      "metadata": {
        "id": "view-in-github",
        "colab_type": "text"
      },
      "source": [
        "<a href=\"https://colab.research.google.com/github/blue-oasis/Python/blob/main/colab/%EC%98%88%EC%99%B8%EC%B2%98%EB%A6%AC.ipynb\" target=\"_parent\"><img src=\"https://colab.research.google.com/assets/colab-badge.svg\" alt=\"Open In Colab\"/></a>"
      ]
    },
    {
      "cell_type": "code",
      "execution_count": 9,
      "metadata": {
        "colab": {
          "base_uri": "https://localhost:8080/"
        },
        "id": "lmyQehf2rzx5",
        "outputId": "60af7361-1a74-4994-da61-d73b012543f2"
      },
      "outputs": [
        {
          "name": "stdout",
          "output_type": "stream",
          "text": [
            "원소는 a\n",
            "예외 발생 <class 'ValueError'>\n",
            "다음 원소\n",
            "\n",
            "원소는 0\n",
            "예외 발생 <class 'ZeroDivisionError'>\n",
            "다음 원소\n",
            "\n",
            "원소는 2\n",
            "원소는 2 결과는 0.5\n",
            "숫자를 입력해 주세요3\n",
            "짝수만 입력해 주세요\n",
            "숫자를 입력해 주세요3\n"
          ]
        }
      ],
      "source": [
        "import sys\n",
        "L = ['a', 0, 2]\n",
        "\n",
        "for i in L :\n",
        "  try :\n",
        "    print('원소는', i)\n",
        "    r = 1/int(i)\n",
        "    break\n",
        "  except :\n",
        "    print(\"예외 발생\", sys.exc_info()[0])\n",
        "    print(\"다음 원소\\n\")\n",
        "\n",
        "print('원소는', i, '결과는', r)\n",
        "\n",
        "\n",
        "try :\n",
        "  num = int(input(\"숫자를 입력해 주세요\"))\n",
        "  assert num % 2 == 0 ,\"범위 오류\"  #assert 조건, 오류 메시지 \n",
        "except : \n",
        "  print(\"짝수만 입력해 주세요\") #예외 발생시 실행\n",
        "  num = int(input(\"숫자를 입력해 주세요\"))\n",
        "else : \n",
        "  k = 1/num\n",
        "  print(k)\n",
        "\n"
      ]
    },
    {
      "cell_type": "code",
      "source": [
        "# 2의 배수 숫자 3개 입력\n",
        "numL = []\n",
        "\n",
        "# list(map(int,input(\"숫자 10 개를 입력해 주세요: \").split()))\n",
        "try : \n",
        "  k = 0\n",
        "  while(k != 3) : \n",
        "    num = int(input(\"숫자를 입력해 주세요 : \"))\n",
        "    numL.append(num)\n",
        "    assert num % 2 == 0 , \"수 오류\"\n",
        "    k = k+1\n",
        "\n",
        "except :\n",
        "  print(\"2의 배수를 입력해 주세요\")\n",
        "  numL[k] = int(input())\n",
        "\n",
        "else : \n",
        "  print(numL)\n",
        "\n",
        "\n"
      ],
      "metadata": {
        "colab": {
          "base_uri": "https://localhost:8080/"
        },
        "id": "SH2RwIYlxKSq",
        "outputId": "b38cfc9d-8fb2-42a7-f0d7-b0becae1340d"
      },
      "execution_count": 27,
      "outputs": [
        {
          "name": "stdout",
          "output_type": "stream",
          "text": [
            "숫자를 입력해 주세요 : 2\n",
            "숫자를 입력해 주세요 : 3\n",
            "2의 배수를 입력해 주세요\n",
            "4\n"
          ]
        }
      ]
    },
    {
      "cell_type": "code",
      "source": [
        "import random\n",
        "\n",
        "numL_2 = []\n",
        "\n",
        "count = 0\n",
        "num_2 = int(input(\"입력할 숫자의 갯수는? : \"))\n",
        "\n",
        "#numL_2 = list(map(int,input(\"숫자 3 개를 입력해 주세요: \").split()))\n",
        "while(True):\n",
        "  '''if len(numL_2) == 3:\n",
        "    break'''\n",
        "  if count == num_2:\n",
        "    break\n",
        "  try :\n",
        "    #num = int(input(\"숫자를 입력하세요 : \"))\n",
        "    num = random.randint(1, 100)\n",
        "    assert num % 2 == 0, \"메시지\"\n",
        "\n",
        "  except : \n",
        "    print(\"2의 배수가 아닙니다\")\n",
        "\n",
        "  else : \n",
        "    print(\"2의 배수입니다\")\n",
        "    numL_2.append(num)\n",
        "    count+=1\n",
        "\n",
        "print(numL_2)\n",
        "\n",
        "\n",
        "\n"
      ],
      "metadata": {
        "colab": {
          "base_uri": "https://localhost:8080/"
        },
        "id": "ADtHWs1lzm7c",
        "outputId": "9b7c9116-b8d1-44ee-f37d-fa2bce371dbb"
      },
      "execution_count": 30,
      "outputs": [
        {
          "output_type": "stream",
          "name": "stdout",
          "text": [
            "입력할 숫자의 갯수는? : 10\n",
            "2의 배수입니다\n",
            "2의 배수입니다\n",
            "2의 배수입니다\n",
            "2의 배수입니다\n",
            "2의 배수입니다\n",
            "2의 배수입니다\n",
            "2의 배수입니다\n",
            "2의 배수가 아닙니다\n",
            "2의 배수입니다\n",
            "2의 배수가 아닙니다\n",
            "2의 배수입니다\n",
            "2의 배수가 아닙니다\n",
            "2의 배수입니다\n",
            "[18, 70, 38, 36, 96, 76, 24, 52, 52, 8]\n"
          ]
        }
      ]
    }
  ]
}