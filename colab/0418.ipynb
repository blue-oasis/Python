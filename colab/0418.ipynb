{
  "nbformat": 4,
  "nbformat_minor": 0,
  "metadata": {
    "colab": {
      "name": "0418.ipynb",
      "provenance": [],
      "authorship_tag": "ABX9TyO9Vv+AqqXJLYkTcCsNhlzS",
      "include_colab_link": true
    },
    "kernelspec": {
      "name": "python3",
      "display_name": "Python 3"
    },
    "language_info": {
      "name": "python"
    }
  },
  "cells": [
    {
      "cell_type": "markdown",
      "metadata": {
        "id": "view-in-github",
        "colab_type": "text"
      },
      "source": [
        "<a href=\"https://colab.research.google.com/github/blue-oasis/Python/blob/main/colab/0418.ipynb\" target=\"_parent\"><img src=\"https://colab.research.google.com/assets/colab-badge.svg\" alt=\"Open In Colab\"/></a>"
      ]
    },
    {
      "cell_type": "code",
      "execution_count": 8,
      "metadata": {
        "colab": {
          "base_uri": "https://localhost:8080/"
        },
        "id": "CMwVkEaUBGeu",
        "outputId": "e100f9b6-e582-480e-bb31-58197a7bf9b4"
      },
      "outputs": [
        {
          "output_type": "stream",
          "name": "stdout",
          "text": [
            "숫자 10 개를 입력해 주세요: 1 2 3 4 5 6 7 8 9 10\n",
            "평균 : 5.5  분산 : 8.25 표준편차 : 2.8722813232690143\n",
            "최대값은 10 최대값의 인덱스 위치는 9 최소값은 1 최소값의 인덱스 위치는 0\n",
            "최대값은 10 최대값의 인덱스 위치는 9\n",
            "최소값은 1 최소값의 인덱스 위치는 0\n",
            "오름차순 정렬 [1, 2, 3, 4, 5, 6, 7, 8, 9, 10]\n",
            "내림차순 정렬 [10, 9, 8, 7, 6, 5, 4, 3, 2, 1]\n",
            "[1, 2, 3, 4, 5, 6, 7, 8, 9, 10]\n",
            "[10, 9, 8, 7, 6, 5, 4, 3, 2, 1]\n"
          ]
        }
      ],
      "source": [
        "#숫자 10개 입력받고 평균, 분산, 표준편차 구해서 반환 함수, 함수에 입력된 숫자 평균, 분산, 표준편차 출력\n",
        "# 최솟값, 최댓값 리턴 (인덱스도 같이)\n",
        "#오름차순, 내림차순 정렬\n",
        "\n",
        "import numpy\n",
        "import math\n",
        "num = list(map(int,input(\"숫자 10 개를 입력해 주세요: \").split()))\n",
        "\n",
        "#평균, 분산, 표준편차 구해서 반환 함수, 함수에 입력된 숫자 평균, 분산, 표준편차 출력\n",
        "def fun1(L):\n",
        "  AVG = sum(L)/len(L)\n",
        "  VAR = numpy.var(L)\n",
        "  STD = numpy.std(L)\n",
        "  print(\"평균 :\",AVG ,\" 분산 :\", VAR, \"표준편차 :\", STD)\n",
        "\n",
        "'''def fun1_2(L): #먼가 이상함\n",
        "  AVG = sum(L)/len(L) #평균\n",
        "  VAR = 0\n",
        "  for val in L:  #제곱평균-평균제곱 = 분산\n",
        "    vsum = 0\n",
        "    vsum = vsum + (val - AVG)**2 #제곱평균 \n",
        "    VAR = vsum / len(L) #평균을 제곱하면 평균제곱\n",
        "    #분산\n",
        "  STD = VAR ** 1/2 #표준편차 = 루트 분산\n",
        "  print(\"평균 :\",AVG ,\" 분산 :\", VAR, \"표준편차 :\", STD) '''\n",
        "\n",
        "\n",
        "#최솟값, 최댓값 리턴 (인덱스도 같이)\n",
        "def fun2(L):\n",
        "  N = min(L)\n",
        "  M = max(L)\n",
        "  n_N = L.index(N)\n",
        "  n_M = L.index(M)\n",
        "  print(\"최대값은\", M, \"최대값의 인덱스 위치는\", n_M, \"최소값은\", N, \"최소값의 인덱스 위치는\", n_N)\n",
        " \n",
        "#max, min, index 안쓰고 인덱스 리턴\n",
        "def fun2_1(L):\n",
        "  M = 0\n",
        "  N = L[0]\n",
        "  n_M = 0\n",
        "  n_N = 0\n",
        "  for i in range(len(L)):\n",
        "    if M<L[i]:\n",
        "      M = L[i]\n",
        "      n_M = i\n",
        "  \n",
        "  for i in range(len(L)):\n",
        "    if(N>L[i]):\n",
        "      N = L[i]\n",
        "      n_N = i\n",
        "\n",
        "  print(\"최대값은\", M, \"최대값의 인덱스 위치는\", n_M)\n",
        "  print(\"최소값은\", N, \"최소값의 인덱스 위치는\", n_N)\n",
        "\n",
        "def fun3(L):\n",
        "  L.sort()\n",
        "  print(\"오름차순 정렬\", L)\n",
        "  L.sort(reverse = True)\n",
        "  print(\"내림차순 정렬\", L)\n",
        "\n",
        "#함수안쓰고 오름차순\n",
        "def fun4(L):\n",
        "  for i in range(1, len(L)):\n",
        "    num1 = L[i]\n",
        "    for j in range(0, len(L)):\n",
        "      num2 = L[j]\n",
        "      if(num1<num2):\n",
        "        swap = 0\n",
        "        swap = num1\n",
        "        num1 = num2\n",
        "        num2 = swap\n",
        "        L[i] = num1\n",
        "        L[j] = num2\n",
        "  return L\n",
        "\n",
        "#함수 안쓰고 내림차순\n",
        "def fun5(L):\n",
        "  for i in range(1, len(L)):\n",
        "    num1 = L[i]\n",
        "    for j in range(0, len(L)):\n",
        "      num2 = L[j]\n",
        "      if(num1>num2):\n",
        "        swap = 0\n",
        "        swap = num1\n",
        "        num1 = num2\n",
        "        num2 = swap\n",
        "        L[i] = num1\n",
        "        L[j] = num2\n",
        "  return L\n",
        "\n",
        "\n",
        "\n",
        "fun1(num)\n",
        "#fun1_2(num)\n",
        "fun2(num)\n",
        "fun2_1(num)\n",
        "fun3(num)\n",
        "print(fun4(num))\n",
        "print(fun5(num))"
      ]
    },
    {
      "cell_type": "markdown",
      "source": [
        "numpy  =  https://needneo.tistory.com/113\n",
        "\n",
        "\n",
        "map   =  https://blockdmask.tistory.com/531"
      ],
      "metadata": {
        "id": "gSlJSTHTca_n"
      }
    }
  ]
}