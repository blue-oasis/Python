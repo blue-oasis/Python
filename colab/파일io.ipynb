{
  "nbformat": 4,
  "nbformat_minor": 0,
  "metadata": {
    "colab": {
      "name": "파일io.ipynb",
      "provenance": [],
      "authorship_tag": "ABX9TyPIXvzgkANf1kIxpOy/Nsvc",
      "include_colab_link": true
    },
    "kernelspec": {
      "name": "python3",
      "display_name": "Python 3"
    },
    "language_info": {
      "name": "python"
    }
  },
  "cells": [
    {
      "cell_type": "markdown",
      "metadata": {
        "id": "view-in-github",
        "colab_type": "text"
      },
      "source": [
        "<a href=\"https://colab.research.google.com/github/blue-oasis/Python/blob/main/colab/%ED%8C%8C%EC%9D%BCio.ipynb\" target=\"_parent\"><img src=\"https://colab.research.google.com/assets/colab-badge.svg\" alt=\"Open In Colab\"/></a>"
      ]
    },
    {
      "cell_type": "code",
      "execution_count": 21,
      "metadata": {
        "id": "sm39bgozUuqD"
      },
      "outputs": [],
      "source": [
        "with open('test.csv', 'w', encoding='utf-8-sig') as f:\n",
        "  name = ['이름', '피카츄', '파이리']\n",
        "  math = ['수학', '100', '20']\n",
        "  kr = ['국어', '40', '70']\n",
        "\n",
        "  for i in range(len(name)):\n",
        "    f.write(name[i]+ \",\"+ math[i]+ \",\"+ kr[i]+ '\\n')"
      ]
    },
    {
      "cell_type": "code",
      "source": [
        "with open('test2.csv', 'w', encoding='utf-8-sig') as f:\n",
        "  name = ['이름', '수학', '국어']\n",
        "  math = ['파이리', '100', '20']\n",
        "  kr = ['피카츄', '40', '70']\n",
        "\n",
        "  for i in range(len(name)):\n",
        "    f.write(name[i]+ \",\"+ math[i]+ \",\"+ kr[i]+ '\\n')"
      ],
      "metadata": {
        "id": "Zlc-gYgljpeu"
      },
      "execution_count": 20,
      "outputs": []
    },
    {
      "cell_type": "code",
      "source": [
        "import csv\n",
        "\n",
        "with open('test3.csv', 'a', encoding='utf-8-sig') as f:\n",
        "  w = ['이름', '수학', '국어']\n",
        "  name = ['꼬북이', '피카츄', '파이리']\n",
        "  math = ['수학', '100', '20']\n",
        "  kr = ['국어', '40', '70']\n",
        "  f.write(w[0] + ',' + w[1] + ',' + w[2])\n",
        "  for i in range(len(name)):\n",
        "    f.write(name[i]+ \",\"+ math[i]+ \",\"+ kr[i]+ '\\n')"
      ],
      "metadata": {
        "id": "8tD2CdCvkCbg"
      },
      "execution_count": 28,
      "outputs": []
    }
  ]
}