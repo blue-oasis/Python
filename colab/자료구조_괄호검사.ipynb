{
  "nbformat": 4,
  "nbformat_minor": 0,
  "metadata": {
    "colab": {
      "name": "자료구조_괄호검사.ipynb",
      "provenance": [],
      "include_colab_link": true
    },
    "kernelspec": {
      "name": "python3",
      "display_name": "Python 3"
    },
    "language_info": {
      "name": "python"
    }
  },
  "cells": [
    {
      "cell_type": "markdown",
      "metadata": {
        "id": "view-in-github",
        "colab_type": "text"
      },
      "source": [
        "<a href=\"https://colab.research.google.com/github/blue-oasis/Python/blob/main/colab/%EC%9E%90%EB%A3%8C%EA%B5%AC%EC%A1%B0_%EA%B4%84%ED%98%B8%EA%B2%80%EC%82%AC.ipynb\" target=\"_parent\"><img src=\"https://colab.research.google.com/assets/colab-badge.svg\" alt=\"Open In Colab\"/></a>"
      ]
    },
    {
      "cell_type": "code",
      "source": [
        "class Stack :\n",
        "    def __init__( self ):   \n",
        "        self.top = []       \n",
        "\n",
        "    def isEmpty( self ): return len(self.top) == 0\n",
        "    def size( self ): return len(self.top)\n",
        "    def clear( self ): self.top = []\t\n",
        "\n",
        "    def push( self, item ):\n",
        "        self.top.append(item)\n",
        "\n",
        "    def pop( self ):\n",
        "        if not self.isEmpty():\n",
        "            return self.top.pop(-1)\n",
        "\n",
        "    def peek( self ):\n",
        "        if not self.isEmpty():\n",
        "            return self.top[-1]\n",
        "\n",
        "    def __str__(self ):\n",
        "        return str(self.top[::-1])"
      ],
      "metadata": {
        "id": "_KAQna8uprGd"
      },
      "execution_count": null,
      "outputs": []
    },
    {
      "cell_type": "code",
      "execution_count": null,
      "metadata": {
        "colab": {
          "base_uri": "https://localhost:8080/"
        },
        "id": "DKvch9yjpR73",
        "outputId": "0cba1ceb-fa53-4030-a537-3b2921cb2090"
      },
      "outputs": [
        {
          "output_type": "stream",
          "name": "stdout",
          "text": [
            "{ A[(i+1)] = 0; }  :  (True, '모든 괄호가 적절하게 대응합니다')\n",
            "if( (i==0) && (j==0 )  :  (False, '대응되지 못한 괄호가 남아 있습니다')\n",
            "A[ (i+1] ) = 0;  :  (False, ']에 대응하는 괄호가 없습니다')\n"
          ]
        }
      ],
      "source": [
        "def checkBrackets(statement):\n",
        "    stack = Stack()\n",
        "    for ch in statement:\t\t    \n",
        "        if ch in '{([': #if ch in ('{', '[', '('):\t\n",
        "            stack.push(ch)\n",
        "        elif ch in ('}', ']', ')'):\t\n",
        "            if stack.isEmpty():\n",
        "                return (False, \"괄호의 시작이 부족하거나, 괄호의 끝이 더 많습니다.\")\n",
        "            else :\n",
        "                left = stack.pop()\n",
        "                if (ch == \"}\" and left != \"{\") or \\\n",
        "                   (ch == \"]\" and left != \"[\") or \\\n",
        "                   (ch == \")\" and left != \"(\") :\n",
        "                   return (False, \"{}에 대응하는 괄호가 없습니다\".format(ch))                \n",
        "\n",
        "    #return stack.isEmpty()\n",
        "    if stack.isEmpty():\n",
        "        return (True, \"모든 괄호가 적절하게 대응합니다\")\n",
        "    else:\n",
        "        return (False, \"대응되지 못한 괄호가 남아 있습니다\")\n",
        "\n",
        "str = ( \"{ A[(i+1)] = 0; }\", \"if( (i==0) && (j==0 )\", \"A[ (i+1] ) = 0;\" )\n",
        "for s in str:\n",
        "    m = checkBrackets(s)\n",
        "    print(s,\" : \", m)"
      ]
    },
    {
      "cell_type": "code",
      "source": [
        ""
      ],
      "metadata": {
        "id": "SQm1T9BdpsdL"
      },
      "execution_count": null,
      "outputs": []
    }
  ]
}