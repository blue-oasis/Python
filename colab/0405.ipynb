{
  "nbformat": 4,
  "nbformat_minor": 0,
  "metadata": {
    "colab": {
      "name": "0405.ipynb",
      "provenance": [],
      "authorship_tag": "ABX9TyNCvMZ/brFtcQYrwxQInti+",
      "include_colab_link": true
    },
    "kernelspec": {
      "name": "python3",
      "display_name": "Python 3"
    },
    "language_info": {
      "name": "python"
    }
  },
  "cells": [
    {
      "cell_type": "markdown",
      "metadata": {
        "id": "view-in-github",
        "colab_type": "text"
      },
      "source": [
        "<a href=\"https://colab.research.google.com/github/blue-oasis/Python/blob/main/colab/0405.ipynb\" target=\"_parent\"><img src=\"https://colab.research.google.com/assets/colab-badge.svg\" alt=\"Open In Colab\"/></a>"
      ]
    },
    {
      "cell_type": "code",
      "execution_count": 2,
      "metadata": {
        "colab": {
          "base_uri": "https://localhost:8080/",
          "height": 72
        },
        "id": "vmWNjBnMl4Y_",
        "outputId": "f8dfc9dd-0949-4621-cae9-2bec9789ffa6"
      },
      "outputs": [
        {
          "output_type": "execute_result",
          "data": {
            "text/plain": [
              "\"int([x]) -> integer\\nint(x, base=10) -> integer\\n\\nConvert a number or string to an integer, or return 0 if no arguments\\nare given.  If x is a number, return x.__int__().  For floating point\\nnumbers, this truncates towards zero.\\n\\nIf x is not a number or if base is given, then x must be a string,\\nbytes, or bytearray instance representing an integer literal in the\\ngiven base.  The literal can be preceded by '+' or '-' and be surrounded\\nby whitespace.  The base defaults to 10.  Valid bases are 0 and 2-36.\\nBase 0 means to interpret the base from the string as an integer literal.\\n>>> int('0b100', base=0)\\n4\""
            ],
            "application/vnd.google.colaboratory.intrinsic+json": {
              "type": "string"
            }
          },
          "metadata": {},
          "execution_count": 2
        }
      ],
      "source": [
        "len.__doc__ # .__doc__ 함수 정의 밑에 작성된 주석 출력\n",
        "\n",
        "list.__doc__\n",
        "\n",
        "int().__doc__"
      ]
    },
    {
      "cell_type": "code",
      "source": [
        "a = [[0, 2, 4], [3, 6, 9]] # list내 list 인덱스 접근\n",
        "print(a[0][1]) # JAVA 이중배열 사용과 비슷\n",
        "\n",
        "a = [0, 5, 7, 8, 4]\n",
        "\n",
        "b = [1, 2, 3, 4, 5]\n",
        "\n",
        "c = [6, 7, 8, 9, 10]\n",
        "\n",
        "D = [a, b, c]\n",
        "\n",
        "print(D[0:3])\n",
        "\n",
        "E = [0, 1, 2, 3, 4, 5, 6, 7, 8, 9, 10]\n",
        "i = 5\n",
        "j = 1\n",
        "k = 2\n",
        "print(E[i*j + k])\n",
        "\n",
        "# [인덱스] 연산하여 접근 가능. 예 : 1차원 배열을 a[i*j + k] 형태로 행/열화 시켜 접근가능 i = 행(한 행당 값 개수) j = 행번호 선택 k = 개별 원소 접근\n",
        "\n",
        "a_1 = [1, 2, 3, 4, 5]\n",
        "a_2 = [6, 7, 8, 9, 10]\n",
        "a_3 = [11, 12, 13, 14, 15]\n",
        "\n",
        "A = [a_1, a_2, a_3]\n",
        "print(A)\n",
        "print(A[0][4])\n",
        "\n",
        "print(15//5)\n"
      ],
      "metadata": {
        "colab": {
          "base_uri": "https://localhost:8080/"
        },
        "id": "oMHvDTESu1Gr",
        "outputId": "c12e2db3-607e-4704-909c-412fe28f51f7"
      },
      "execution_count": 26,
      "outputs": [
        {
          "output_type": "stream",
          "name": "stdout",
          "text": [
            "2\n",
            "[[0, 5, 7, 8, 4], [1, 2, 3, 4, 5], [6, 7, 8, 9, 10]]\n",
            "7\n",
            "[[1, 2, 3, 4, 5], [6, 7, 8, 9, 10], [11, 12, 13, 14, 15]]\n",
            "5\n",
            "3\n"
          ]
        }
      ]
    },
    {
      "cell_type": "code",
      "source": [
        "# all() 원소값이 모두 참이면 true 리턴, sorted() 오름차순 정렬, sum() 모든 값 더하기\n",
        "set_1 = {7, 1, 2, 3, 4, 5}\n",
        "print(all(set_1), \"\\nset_1 정렬 : \", sorted(set_1))\n",
        "\n",
        "set_2 = {22, 31, 0, 1, 2 ,3}\n",
        "set_2.pop() # .pop() 제일 앞 원소 내보내고 지우기\n",
        "print(\"set_2 는\",set_2, \"\\n가장 큰 값은 : \", max(set_2), \"\\n가장 작은 값은 : \", min(set_2), \"\\n모든 원소의 합 : \", sum(set_2)) # max 제일 큰 값, min 제일 작은값 \n",
        "\n",
        "index_set = list(enumerate(set_2)) # list(enumerate()) set을 (인덱스, 값) 형태의 list로 변환\n",
        "print(\"set을 (인덱스, 값)형태의 리스트로 반환\", index_set)"
      ],
      "metadata": {
        "colab": {
          "base_uri": "https://localhost:8080/"
        },
        "id": "xwrg9xMGdu0C",
        "outputId": "95f018d2-d43f-4f2c-e59a-b921cff54822"
      },
      "execution_count": 80,
      "outputs": [
        {
          "output_type": "stream",
          "name": "stdout",
          "text": [
            "True \n",
            "set_1 정렬 :  [1, 2, 3, 4, 5, 7]\n",
            "set_2 는 {1, 2, 3, 22, 31} \n",
            "가장 큰 값은 :  31 \n",
            "가장 작은 값은 :  1 \n",
            "모든 원소의 합 :  59\n",
            "set을 (인덱스, 값)형태의 리스트로 반환 [(0, 1), (1, 2), (2, 3), (3, 22), (4, 31)]\n"
          ]
        }
      ]
    },
    {
      "cell_type": "code",
      "source": [
        "set_3 = {2, 3, 4, 6, 22, 40}\n",
        "set_3.add(48) # .add() 원소 1개 추가\n",
        "print(\"set_3 :\", set_3)\n",
        "set_4 = set_3.copy() # .copy()  set 복사본 리턴\n",
        "\n",
        "set_4.update({91, 52, 66}) # .update([])\n",
        "sort_set_4 = sorted(set_4) # sorted() set을 오름차순 정렬하여 list로 반환\n",
        "print(\"set_4 :\",set(sort_set_4))\n",
        "\n",
        "차집합 = set_4.difference(set_3) # a.difference(b_set) a-b 차집합 set 반환 \n",
        "print(\"set_4와 set_3의 차집합 :\", 차집합)\n",
        "print(\"set_3과 set_4의 교집합 :\",set_3.intersection(set_4))\n",
        "\n",
        "실험 = {1, 2, 3, 4, 5}\n",
        "실험2 = {3, 4, 5, 6, 7}\n",
        "실험2.difference_update(실험) # a.difference_update(b) a에서 a와 b의 교집합 제거\n",
        "print(실험2)"
      ],
      "metadata": {
        "colab": {
          "base_uri": "https://localhost:8080/"
        },
        "id": "bRuDt9zzjJmA",
        "outputId": "077e9043-7b3a-48b3-f9fb-2da3fcdca3d8"
      },
      "execution_count": 24,
      "outputs": [
        {
          "output_type": "stream",
          "name": "stdout",
          "text": [
            "set_3 : {2, 3, 4, 6, 40, 48, 22}\n",
            "set_4 : {2, 3, 4, 66, 6, 40, 48, 52, 22, 91}\n",
            "set_4와 set_3의 차집합 : {66, 91, 52}\n",
            "set_3과 set_4의 교집합 : {2, 3, 4, 6, 40, 48, 22}\n",
            "{6, 7}\n"
          ]
        }
      ]
    },
    {
      "cell_type": "code",
      "source": [
        "# 딕셔너리 키:값\n",
        "dic = {1:\"1번\", 2:\"2번\", 3:\"3번\", 4:[4, 5, 6]}\n",
        "print(dic[4])\n"
      ],
      "metadata": {
        "colab": {
          "base_uri": "https://localhost:8080/"
        },
        "id": "6EJ-phqbsFGJ",
        "outputId": "6ecdefd1-7ec3-440e-cb8b-f45a6be149f9"
      },
      "execution_count": 27,
      "outputs": [
        {
          "output_type": "stream",
          "name": "stdout",
          "text": [
            "5\n"
          ]
        }
      ]
    },
    {
      "cell_type": "code",
      "source": [
        "# 암묵적 형변환\n",
        "num_int = 5\n",
        "num_flo = 3.12\n",
        "num_new = num_int + num_flo\n",
        "\n",
        "print(num_new, type(num_new))"
      ],
      "metadata": {
        "colab": {
          "base_uri": "https://localhost:8080/"
        },
        "id": "YU6yjUFyswjw",
        "outputId": "5ebb5e88-cab3-4dcd-c2b7-19ac2b682051"
      },
      "execution_count": 25,
      "outputs": [
        {
          "output_type": "stream",
          "name": "stdout",
          "text": [
            "8.120000000000001 <class 'float'>\n"
          ]
        }
      ]
    }
  ]
}