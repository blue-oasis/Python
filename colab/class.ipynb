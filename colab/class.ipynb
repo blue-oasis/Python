{
  "nbformat": 4,
  "nbformat_minor": 0,
  "metadata": {
    "colab": {
      "name": "class.ipynb",
      "provenance": [],
      "authorship_tag": "ABX9TyPa/1p8WlkN1caN2tpMozi5",
      "include_colab_link": true
    },
    "kernelspec": {
      "name": "python3",
      "display_name": "Python 3"
    },
    "language_info": {
      "name": "python"
    }
  },
  "cells": [
    {
      "cell_type": "markdown",
      "metadata": {
        "id": "view-in-github",
        "colab_type": "text"
      },
      "source": [
        "<a href=\"https://colab.research.google.com/github/blue-oasis/Python/blob/main/colab/class.ipynb\" target=\"_parent\"><img src=\"https://colab.research.google.com/assets/colab-badge.svg\" alt=\"Open In Colab\"/></a>"
      ]
    },
    {
      "cell_type": "code",
      "execution_count": 4,
      "metadata": {
        "colab": {
          "base_uri": "https://localhost:8080/"
        },
        "id": "rKyCJKNEo5Mz",
        "outputId": "0542fd19-1893-4cde-b786-f991e57a9d3a"
      },
      "outputs": [
        {
          "output_type": "stream",
          "name": "stdout",
          "text": [
            "8\n",
            "-2\n",
            "15\n",
            "0.6\n"
          ]
        }
      ],
      "source": [
        "class math :\n",
        "  def __init__(self, num1, num2):\n",
        "    self.num1 = num1\n",
        "    self.num2 = num2\n",
        "\n",
        "  def sum2(self):\n",
        "    return self.num1 + self.num2\n",
        "\n",
        "  def nin(self):\n",
        "    return self.num1 - self.num2\n",
        "\n",
        "  def go(self):\n",
        "    return self.num1 * self.num2\n",
        "\n",
        "  def na(self):\n",
        "    return self.num1 / self.num2\n",
        "\n",
        "test = math(3, 5)\n",
        "\n",
        "print(test.sum2())\n",
        "print(test.nin())\n",
        "print(test.go())\n",
        "print(test.na())"
      ]
    },
    {
      "cell_type": "code",
      "source": [
        "class clc : \n",
        "  \n",
        "  def __init__(self):\n",
        "    pass\n",
        "\n",
        "  def add(a, b):\n",
        "    print(a+b)\n",
        "\n",
        "  def sub(a, b):\n",
        "    print(a - b)\n",
        "\n",
        "  def mul(a, b):\n",
        "    print(a * b)\n",
        "\n",
        "  def div(a, b):\n",
        "    print(a / b)\n",
        "  \n",
        "clc.add(3,5) #클래스 직접접근"
      ],
      "metadata": {
        "colab": {
          "base_uri": "https://localhost:8080/"
        },
        "id": "adTH3ij6s7dI",
        "outputId": "1cb15c1a-7e9f-4ff3-c639-e6e3ae44185b"
      },
      "execution_count": 5,
      "outputs": [
        {
          "output_type": "stream",
          "name": "stdout",
          "text": [
            "8\n"
          ]
        }
      ]
    },
    {
      "cell_type": "code",
      "source": [
        "class point:\n",
        "  def __init__(self, x=0, y=0):\n",
        "    self.x = x\n",
        "    self.y = y\n",
        "\n",
        "  def __str__(self):  #객체 프린트 시 지정된 리턴값 출력 오버라이딩 안하면 위치값 출력\n",
        "    return \"({0}, {1})\".format(self.x, self.y)\n",
        "\n",
        "p1 = point(1, 2)\n",
        "p2 = point(3, 4)\n",
        "\n",
        "print(p2)\n",
        "print(str(p2))\n",
        "print(format(p2))\n"
      ],
      "metadata": {
        "colab": {
          "base_uri": "https://localhost:8080/"
        },
        "id": "HvMeOYUg1XRI",
        "outputId": "4e5dc0dd-d36b-476f-825f-57ccab257098"
      },
      "execution_count": 11,
      "outputs": [
        {
          "output_type": "stream",
          "name": "stdout",
          "text": [
            "(3, 4)\n",
            "(3, 4)\n",
            "(3, 4)\n"
          ]
        }
      ]
    },
    {
      "cell_type": "code",
      "source": [
        "class point:\n",
        "  def __init__(self, x=0, y=0):\n",
        "    self.x = x\n",
        "    self.y = y\n",
        "\n",
        "  def __str__(self):  #객체 프린트 시 지정된 리턴값 출력 오버로딩 안하면 위치값 출력\n",
        "    return \"({0}, {1})\".format(self.x, self.y)\n",
        "\n",
        "  def __add__(self, other): # + 오버로딩 (특수함수)\n",
        "    x = self.x + other.x\n",
        "    y = self.y + other.y\n",
        "    return print(x, y)\n",
        "\n",
        "p1 = point(1, 2)\n",
        "p2 = point(3, 4)\n",
        "\n",
        "print(p1+p2)\n",
        "print(point.__add__(p1, p2))"
      ],
      "metadata": {
        "colab": {
          "base_uri": "https://localhost:8080/"
        },
        "id": "PG8zxzJT3-Gy",
        "outputId": "ba040930-0547-4ed4-fe49-4e7f785887bb"
      },
      "execution_count": 13,
      "outputs": [
        {
          "output_type": "stream",
          "name": "stdout",
          "text": [
            "4 6\n",
            "None\n",
            "4 6\n",
            "None\n"
          ]
        }
      ]
    }
  ]
}